{
 "cells": [
  {
   "cell_type": "code",
   "execution_count": 1,
   "metadata": {},
   "outputs": [],
   "source": [
    "from gensim.models import KeyedVectors\n",
    "word_vectors = KeyedVectors.load_word2vec_format('trmodel', binary=True)"
   ]
  },
  {
   "cell_type": "code",
   "execution_count": 5,
   "metadata": {},
   "outputs": [
    {
     "data": {
      "text/plain": [
       "[('bölge', 0.48411107063293457),\n",
       " ('kent', 0.4504223167896271),\n",
       " ('şehrin', 0.42132359743118286),\n",
       " ('başkent', 0.41538792848587036),\n",
       " ('bölgenin', 0.41311272978782654),\n",
       " ('şehri', 0.4078456163406372),\n",
       " ('ülkenin', 0.40738052129745483),\n",
       " ('şehirlerin', 0.40164875984191895),\n",
       " ('kentin', 0.3976553678512573),\n",
       " ('kentlerin', 0.39475589990615845)]"
      ]
     },
     "execution_count": 5,
     "metadata": {},
     "output_type": "execute_result"
    }
   ],
   "source": [
    "word_vectors.most_similar(positive=[\"ülke\",\"şehir\"],negative=[\"erkek\"])"
   ]
  },
  {
   "cell_type": "code",
   "execution_count": null,
   "metadata": {},
   "outputs": [],
   "source": []
  }
 ],
 "metadata": {
  "kernelspec": {
   "display_name": "Python 3",
   "language": "python",
   "name": "python3"
  },
  "language_info": {
   "codemirror_mode": {
    "name": "ipython",
    "version": 3
   },
   "file_extension": ".py",
   "mimetype": "text/x-python",
   "name": "python",
   "nbconvert_exporter": "python",
   "pygments_lexer": "ipython3",
   "version": "3.7.6"
  }
 },
 "nbformat": 4,
 "nbformat_minor": 4
}
