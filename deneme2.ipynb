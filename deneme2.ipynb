{
 "cells": [
  {
   "cell_type": "code",
   "execution_count": 32,
   "metadata": {},
   "outputs": [],
   "source": [
    "#pip install -U nltk"
   ]
  },
  {
   "cell_type": "code",
   "execution_count": 33,
   "metadata": {},
   "outputs": [],
   "source": [
    "import numpy as np\n",
    "import pandas as pd\n",
    "from gensim.models.word2vec import Word2Vec\n",
    "from sklearn.model_selection import train_test_split\n",
    "from keras.utils import to_categorical\n",
    "from keras.layers import Dense, Dropout, Conv1D, MaxPool1D, GlobalMaxPool1D, Embedding, Activation\n",
    "from keras.preprocessing.text import Tokenizer\n",
    "from keras.preprocessing.sequence import pad_sequences\n",
    "from keras.models import Sequential\n",
    "import re\n",
    "import nltk\n",
    "from nltk.corpus import stopwords\n",
    "from nltk.tokenize import word_tokenize \n",
    "from nltk.stem.snowball import PorterStemmer\n",
    "from sklearn import preprocessing\n",
    "\n",
    "from gensim.parsing.preprocessing import remove_stopwords\n",
    "import matplotlib.pyplot as plt\n",
    "import seaborn as sns\n",
    "from sklearn.metrics import confusion_matrix\n",
    "\n"
   ]
  },
  {
   "cell_type": "code",
   "execution_count": 34,
   "metadata": {},
   "outputs": [],
   "source": [
    "df = pd.read_csv(\"3000tweet/3000tweet.csv\", sep=';',encoding=\"utf8\")\n",
    "WPT = nltk.WordPunctTokenizer()"
   ]
  },
  {
   "cell_type": "code",
   "execution_count": 35,
   "metadata": {},
   "outputs": [],
   "source": [
    "def preprocess_text(sen):\n",
    "        \n",
    "    # Remove punctuations and numbers\n",
    "    sentence = re.sub('[^\\w\\s]', ' ', str(sen))\n",
    "    \n",
    "    #Single character removal\n",
    "    sentence = re.sub(r\"\\b[\\w\\s]\\b\", ' ',str(sentence))\n",
    "    \n",
    "    #Removing multiple spaces\n",
    "    sentence = re.sub(r'\\s+', ' ', sentence)\n",
    "    \n",
    "    stop_word_list = stopwords.words('turkish')\n",
    "    \n",
    "    tokens = WPT.tokenize(sentence)\n",
    "    filtered_tokens = [token for token in tokens if token not in stop_word_list]\n",
    "    single_doc = ' '.join(filtered_tokens)\n",
    "\n",
    "    return single_doc.lower()\n"
   ]
  },
  {
   "cell_type": "code",
   "execution_count": 36,
   "metadata": {},
   "outputs": [],
   "source": [
    "df['tweet'] = df['tweet'].apply(preprocess_text)"
   ]
  },
  {
   "cell_type": "code",
   "execution_count": 37,
   "metadata": {},
   "outputs": [
    {
     "name": "stdout",
     "output_type": "stream",
     "text": [
      "[['dun', 'turkcelle', 'tepkilerimizden', 'sonra', 'bugün', 'turkcell', 'twittera', 'sponsor', 'olmuş', 'ne', 'tesadüf', 'değil'], ['girmezmiyim', 'turkcell', 'kartim', 'bile', 'var', 'yarindan', 'itibaren', 'onu', 'takicam', 'twittersiz', 'denedim', 'sadece', 'gun', 'yapabildim']]\n"
     ]
    }
   ],
   "source": [
    "mes = []\n",
    "for i in df['tweet']:\n",
    "    mes.append(i.split())\n",
    "print(mes[:2])"
   ]
  },
  {
   "cell_type": "code",
   "execution_count": 38,
   "metadata": {},
   "outputs": [
    {
     "name": "stdout",
     "output_type": "stream",
     "text": [
      "Word2Vec(vocab=12038, size=500, alpha=0.025)\n"
     ]
    }
   ],
   "source": [
    "word2vec_model = Word2Vec(mes, size=500, window=3, min_count=1, workers=16)\n",
    "print(word2vec_model)"
   ]
  },
  {
   "cell_type": "code",
   "execution_count": 52,
   "metadata": {},
   "outputs": [
    {
     "name": "stdout",
     "output_type": "stream",
     "text": [
      "[[   0    0    0    0    0    0    0    0    0    0    0    0    0    0\n",
      "     0    0    0    0    0    0    0    0    0    0    0    0    0    0\n",
      "     0    0    0    0    0    0    0    0    0    0    0    0    0    0\n",
      "     0    0    0    0    0    0    0    0    0    0    0    0    0    0\n",
      "     0    0    0    0    0    0    0  637  402 3241   29   34    1 3242\n",
      "   954  161   64 1827   37]\n",
      " [   0    0    0    0    0    0    0    0    0    0    0    0    0    0\n",
      "     0    0    0    0    0    0    0    0    0    0    0    0    0    0\n",
      "     0    0    0    0    0    0    0    0    0    0    0    0    0    0\n",
      "     0    0    0    0    0    0    0    0    0    0    0    0    0    0\n",
      "     0    0    0    0    0 3243    1 3244   33    9 3245 1828  204 3246\n",
      "  3247  775   45  174 3248]]\n"
     ]
    }
   ],
   "source": [
    "token = Tokenizer(12038)\n",
    "token.fit_on_texts(df['tweet'])\n",
    "text = token.texts_to_sequences(df['tweet'])\n",
    "text = pad_sequences(text, 75)\n",
    "print(text[:2])"
   ]
  },
  {
   "cell_type": "code",
   "execution_count": 40,
   "metadata": {},
   "outputs": [],
   "source": [
    "le = preprocessing.LabelEncoder()\n",
    "y = le.fit_transform(df['durum'])\n",
    "y = to_categorical(y)"
   ]
  },
  {
   "cell_type": "code",
   "execution_count": 41,
   "metadata": {},
   "outputs": [],
   "source": [
    "x_train, x_test, y_train, y_test = train_test_split(np.array(text), y, test_size=0.2, stratify=y)"
   ]
  },
  {
   "cell_type": "code",
   "execution_count": 42,
   "metadata": {},
   "outputs": [
    {
     "name": "stderr",
     "output_type": "stream",
     "text": [
      "D:\\ProgramData\\Anaconda3\\lib\\site-packages\\tensorflow_core\\python\\framework\\indexed_slices.py:433: UserWarning: Converting sparse IndexedSlices to a dense Tensor of unknown shape. This may consume a large amount of memory.\n",
      "  \"Converting sparse IndexedSlices to a dense Tensor of unknown shape. \"\n"
     ]
    },
    {
     "name": "stdout",
     "output_type": "stream",
     "text": [
      "Train on 2400 samples, validate on 600 samples\n",
      "Epoch 1/3\n",
      "2400/2400 [==============================] - 16s 7ms/step - loss: 0.6248 - acc: 0.6693 - val_loss: 0.6101 - val_acc: 0.6706\n",
      "Epoch 2/3\n",
      "2400/2400 [==============================] - 15s 6ms/step - loss: 0.5186 - acc: 0.7400 - val_loss: 0.5786 - val_acc: 0.7028\n",
      "Epoch 3/3\n",
      "2400/2400 [==============================] - 15s 6ms/step - loss: 0.3532 - acc: 0.8029 - val_loss: 0.6544 - val_acc: 0.6867\n"
     ]
    }
   ],
   "source": [
    "keras_model = Sequential()\n",
    "keras_model.add(word2vec_model.wv.get_keras_embedding(True))\n",
    "keras_model.add(Dropout(0.2))\n",
    "keras_model.add(Conv1D(50, 3, activation='relu', padding='same', strides=1))\n",
    "keras_model.add(Conv1D(50, 3, activation='relu', padding='same', strides=1))\n",
    "keras_model.add(MaxPool1D())\n",
    "keras_model.add(Dropout(0.2))\n",
    "keras_model.add(Conv1D(100, 3, activation='relu', padding='same', strides=1))\n",
    "keras_model.add(Conv1D(100, 3, activation='relu', padding='same', strides=1))\n",
    "keras_model.add(MaxPool1D())\n",
    "keras_model.add(Dropout(0.2))\n",
    "keras_model.add(Conv1D(200, 3, activation='relu', padding='same', strides=1))\n",
    "keras_model.add(Conv1D(200, 3, activation='relu', padding='same', strides=1))\n",
    "keras_model.add(GlobalMaxPool1D())\n",
    "keras_model.add(Dropout(0.2))\n",
    "keras_model.add(Dense(200))\n",
    "keras_model.add(Activation('relu'))\n",
    "keras_model.add(Dropout(0.2))\n",
    "keras_model.add(Dense(3))\n",
    "keras_model.add(Activation('softmax'))\n",
    "keras_model.compile(loss='binary_crossentropy', metrics=['acc'], optimizer='adam')\n",
    "history=keras_model.fit(x_train, y_train, batch_size=16, epochs=3, validation_data=(x_test, y_test))"
   ]
  },
  {
   "cell_type": "code",
   "execution_count": 43,
   "metadata": {},
   "outputs": [
    {
     "data": {
      "image/png": "[encoded data removed]",
      "text/plain": [
       "<Figure size 432x288 with 1 Axes>"
      ]
     },
     "metadata": {
      "needs_background": "light"
     },
     "output_type": "display_data"
    }
   ],
   "source": [
    "import matplotlib.pyplot as plt\n",
    "plt.plot(history.history['acc'])\n",
    "plt.plot(history.history['val_acc'])\n",
    "plt.ylabel('loss')\n",
    "plt.xlabel('epoch')\n",
    "plt.legend(['train', 'test'], loc='upper left')\n",
    "plt.show()"
   ]
  },
  {
   "cell_type": "code",
   "execution_count": 44,
   "metadata": {},
   "outputs": [
    {
     "data": {
      "text/plain": [
       "array([2, 1, 1, 1, 0, 1, 2, 1, 1, 2, 2, 2, 1, 2, 2, 0, 1, 2, 2, 2, 2, 2,\n",
       "       0, 2, 1, 2, 1, 0, 1, 2, 2, 2, 1, 0, 2, 2, 2, 2, 2, 0, 0, 0, 2, 1,\n",
       "       0, 2, 2, 2, 0, 1, 0, 1, 0, 1, 1, 2, 2, 1, 1, 2, 1, 0, 2, 2, 0, 2,\n",
       "       1, 2, 2, 1, 1, 2, 1, 2, 2, 1, 1, 2, 2, 2, 2, 1, 0, 2, 2, 0, 2, 2,\n",
       "       1, 0, 1, 1, 0, 1, 1, 2, 2, 1, 1, 0, 2, 2, 2, 2, 2, 1, 2, 1, 2, 2,\n",
       "       2, 1, 2, 2, 2, 2, 0, 2, 1, 2, 0, 2, 2, 0, 0, 1, 2, 2, 1, 2, 2, 2,\n",
       "       2, 2, 2, 1, 2, 2, 1, 2, 1, 1, 2, 0, 2, 1, 2, 2, 0, 2, 2, 1, 1, 2,\n",
       "       2, 1, 0, 2, 1, 1, 0, 2, 1, 1, 1, 1, 2, 1, 2, 2, 2, 1, 1, 0, 2, 2,\n",
       "       2, 0, 0, 2, 0, 2, 2, 2, 2, 1, 2, 1, 0, 1, 2, 2, 2, 2, 1, 2, 0, 1,\n",
       "       2, 2, 2, 1, 0, 1, 2, 1, 2, 2, 2, 1, 0, 0, 2, 1, 0, 1, 1, 0, 2, 2,\n",
       "       0, 2, 2, 0, 1, 2, 1, 2, 2, 2, 1, 2, 2, 2, 2, 2, 0, 2, 1, 2, 2, 1,\n",
       "       1, 2, 0, 0, 1, 2, 2, 2, 2, 1, 1, 2, 1, 0, 0, 1, 2, 2, 1, 1, 2, 2,\n",
       "       2, 0, 0, 2, 1, 1, 0, 2, 2, 2, 0, 1, 2, 1, 1, 2, 2, 2, 2, 2, 0, 2,\n",
       "       1, 2, 2, 2, 2, 1, 2, 1, 2, 1, 2, 1, 1, 2, 1, 0, 2, 0, 2, 1, 1, 1,\n",
       "       0, 2, 1, 2, 1, 1, 2, 2, 2, 2, 1, 1, 1, 2, 2, 1, 1, 1, 1, 2, 2, 2,\n",
       "       1, 1, 2, 1, 1, 0, 0, 2, 0, 2, 2, 1, 1, 2, 2, 2, 0, 1, 1, 2, 2, 1,\n",
       "       2, 2, 2, 1, 2, 2, 1, 1, 1, 1, 2, 1, 2, 0, 1, 1, 0, 1, 2, 1, 0, 1,\n",
       "       1, 2, 0, 1, 0, 2, 0, 1, 1, 2, 0, 1, 2, 1, 2, 2, 2, 1, 2, 1, 1, 0,\n",
       "       2, 2, 2, 2, 2, 2, 2, 1, 2, 2, 1, 2, 1, 1, 1, 0, 0, 1, 1, 1, 1, 1,\n",
       "       2, 1, 0, 2, 1, 1, 2, 1, 2, 2, 1, 2, 2, 0, 1, 1, 1, 0, 1, 1, 2, 2,\n",
       "       2, 2, 2, 1, 2, 2, 2, 0, 1, 2, 0, 2, 2, 2, 2, 1, 1, 2, 1, 0, 1, 1,\n",
       "       2, 1, 1, 0, 1, 2, 1, 2, 2, 1, 2, 2, 2, 1, 2, 1, 1, 1, 2, 1, 2, 2,\n",
       "       0, 2, 2, 1, 1, 2, 1, 0, 2, 1, 2, 0, 1, 1, 2, 1, 2, 2, 1, 1, 2, 2,\n",
       "       1, 2, 1, 2, 2, 2, 1, 1, 0, 1, 1, 2, 2, 1, 2, 0, 1, 1, 0, 1, 0, 2,\n",
       "       2, 0, 2, 2, 2, 2, 1, 1, 1, 2, 1, 1, 2, 2, 1, 0, 1, 1, 2, 2, 2, 1,\n",
       "       0, 2, 2, 1, 2, 2, 2, 1, 2, 0, 0, 2, 2, 2, 2, 2, 2, 0, 2, 2, 1, 2,\n",
       "       2, 1, 2, 2, 2, 1, 2, 0, 1, 2, 0, 1, 1, 2, 2, 1, 1, 2, 2, 2, 1, 1,\n",
       "       1, 1, 0, 2, 1, 2], dtype=int64)"
      ]
     },
     "execution_count": 44,
     "metadata": {},
     "output_type": "execute_result"
    }
   ],
   "source": [
    "pred = keras_model.predict_classes(x_test)\n",
    "pred"
   ]
  },
  {
   "cell_type": "code",
   "execution_count": 50,
   "metadata": {},
   "outputs": [
    {
     "name": "stderr",
     "output_type": "stream",
     "text": [
      "D:\\ProgramData\\Anaconda3\\lib\\site-packages\\ipykernel_launcher.py:1: DeprecationWarning: Call to deprecated `accuracy` (Method will be removed in 4.0.0, use self.wv.evaluate_word_analogies() instead).\n",
      "  \"\"\"Entry point for launching an IPython kernel.\n"
     ]
    },
    {
     "ename": "TypeError",
     "evalue": "don't know how to handle uri array([2, 1, 1, 1, 0, 1, 2, 1, 1, 2, 2, 2, 1, 2, 2, 0, 1, 2, 2, 2, 2, 2,\n       0, 2, 1, 2, 1, 0, 1, 2, 2, 2, 1, 0, 2, 2, 2, 2, 2, 0, 0, 0, 2, 1,\n       0, 2, 2, 2, 0, 1, 0, 1, 0, 1, 1, 2, 2, 1, 1, 2, 1, 0, 2, 2, 0, 2,\n       1, 2, 2, 1, 1, 2, 1, 2, 2, 1, 1, 2, 2, 2, 2, 1, 0, 2, 2, 0, 2, 2,\n       1, 0, 1, 1, 0, 1, 1, 2, 2, 1, 1, 0, 2, 2, 2, 2, 2, 1, 2, 1, 2, 2,\n       2, 1, 2, 2, 2, 2, 0, 2, 1, 2, 0, 2, 2, 0, 0, 1, 2, 2, 1, 2, 2, 2,\n       2, 2, 2, 1, 2, 2, 1, 2, 1, 1, 2, 0, 2, 1, 2, 2, 0, 2, 2, 1, 1, 2,\n       2, 1, 0, 2, 1, 1, 0, 2, 1, 1, 1, 1, 2, 1, 2, 2, 2, 1, 1, 0, 2, 2,\n       2, 0, 0, 2, 0, 2, 2, 2, 2, 1, 2, 1, 0, 1, 2, 2, 2, 2, 1, 2, 0, 1,\n       2, 2, 2, 1, 0, 1, 2, 1, 2, 2, 2, 1, 0, 0, 2, 1, 0, 1, 1, 0, 2, 2,\n       0, 2, 2, 0, 1, 2, 1, 2, 2, 2, 1, 2, 2, 2, 2, 2, 0, 2, 1, 2, 2, 1,\n       1, 2, 0, 0, 1, 2, 2, 2, 2, 1, 1, 2, 1, 0, 0, 1, 2, 2, 1, 1, 2, 2,\n       2, 0, 0, 2, 1, 1, 0, 2, 2, 2, 0, 1, 2, 1, 1, 2, 2, 2, 2, 2, 0, 2,\n       1, 2, 2, 2, 2, 1, 2, 1, 2, 1, 2, 1, 1, 2, 1, 0, 2, 0, 2, 1, 1, 1,\n       0, 2, 1, 2, 1, 1, 2, 2, 2, 2, 1, 1, 1, 2, 2, 1, 1, 1, 1, 2, 2, 2,\n       1, 1, 2, 1, 1, 0, 0, 2, 0, 2, 2, 1, 1, 2, 2, 2, 0, 1, 1, 2, 2, 1,\n       2, 2, 2, 1, 2, 2, 1, 1, 1, 1, 2, 1, 2, 0, 1, 1, 0, 1, 2, 1, 0, 1,\n       1, 2, 0, 1, 0, 2, 0, 1, 1, 2, 0, 1, 2, 1, 2, 2, 2, 1, 2, 1, 1, 0,\n       2, 2, 2, 2, 2, 2, 2, 1, 2, 2, 1, 2, 1, 1, 1, 0, 0, 1, 1, 1, 1, 1,\n       2, 1, 0, 2, 1, 1, 2, 1, 2, 2, 1, 2, 2, 0, 1, 1, 1, 0, 1, 1, 2, 2,\n       2, 2, 2, 1, 2, 2, 2, 0, 1, 2, 0, 2, 2, 2, 2, 1, 1, 2, 1, 0, 1, 1,\n       2, 1, 1, 0, 1, 2, 1, 2, 2, 1, 2, 2, 2, 1, 2, 1, 1, 1, 2, 1, 2, 2,\n       0, 2, 2, 1, 1, 2, 1, 0, 2, 1, 2, 0, 1, 1, 2, 1, 2, 2, 1, 1, 2, 2,\n       1, 2, 1, 2, 2, 2, 1, 1, 0, 1, 1, 2, 2, 1, 2, 0, 1, 1, 0, 1, 0, 2,\n       2, 0, 2, 2, 2, 2, 1, 1, 1, 2, 1, 1, 2, 2, 1, 0, 1, 1, 2, 2, 2, 1,\n       0, 2, 2, 1, 2, 2, 2, 1, 2, 0, 0, 2, 2, 2, 2, 2, 2, 0, 2, 2, 1, 2,\n       2, 1, 2, 2, 2, 1, 2, 0, 1, 2, 0, 1, 1, 2, 2, 1, 1, 2, 2, 2, 1, 1,\n       1, 1, 0, 2, 1, 2], dtype=int64)",
     "output_type": "error",
     "traceback": [
      "\u001b[1;31m---------------------------------------------------------------------------\u001b[0m",
      "\u001b[1;31mTypeError\u001b[0m                                 Traceback (most recent call last)",
      "\u001b[1;32m<ipython-input-50-a87f47772a86>\u001b[0m in \u001b[0;36m<module>\u001b[1;34m\u001b[0m\n\u001b[1;32m----> 1\u001b[1;33m \u001b[0maccuracy\u001b[0m \u001b[1;33m=\u001b[0m \u001b[0mword2vec_model\u001b[0m\u001b[1;33m.\u001b[0m\u001b[0maccuracy\u001b[0m\u001b[1;33m(\u001b[0m\u001b[0mpred\u001b[0m\u001b[1;33m)\u001b[0m\u001b[1;33m\u001b[0m\u001b[1;33m\u001b[0m\u001b[0m\n\u001b[0m",
      "\u001b[1;32mD:\\ProgramData\\Anaconda3\\lib\\site-packages\\gensim\\utils.py\u001b[0m in \u001b[0;36mnew_func1\u001b[1;34m(*args, **kwargs)\u001b[0m\n\u001b[0;32m   1459\u001b[0m                     \u001b[0mstacklevel\u001b[0m\u001b[1;33m=\u001b[0m\u001b[1;36m2\u001b[0m\u001b[1;33m\u001b[0m\u001b[1;33m\u001b[0m\u001b[0m\n\u001b[0;32m   1460\u001b[0m                 )\n\u001b[1;32m-> 1461\u001b[1;33m                 \u001b[1;32mreturn\u001b[0m \u001b[0mfunc\u001b[0m\u001b[1;33m(\u001b[0m\u001b[1;33m*\u001b[0m\u001b[0margs\u001b[0m\u001b[1;33m,\u001b[0m \u001b[1;33m**\u001b[0m\u001b[0mkwargs\u001b[0m\u001b[1;33m)\u001b[0m\u001b[1;33m\u001b[0m\u001b[1;33m\u001b[0m\u001b[0m\n\u001b[0m\u001b[0;32m   1462\u001b[0m \u001b[1;33m\u001b[0m\u001b[0m\n\u001b[0;32m   1463\u001b[0m             \u001b[1;32mreturn\u001b[0m \u001b[0mnew_func1\u001b[0m\u001b[1;33m\u001b[0m\u001b[1;33m\u001b[0m\u001b[0m\n",
      "\u001b[1;32mD:\\ProgramData\\Anaconda3\\lib\\site-packages\\gensim\\models\\word2vec.py\u001b[0m in \u001b[0;36maccuracy\u001b[1;34m(self, questions, restrict_vocab, most_similar, case_insensitive)\u001b[0m\n\u001b[0;32m   1030\u001b[0m         \"\"\"\n\u001b[0;32m   1031\u001b[0m         \u001b[0mmost_similar\u001b[0m \u001b[1;33m=\u001b[0m \u001b[0mmost_similar\u001b[0m \u001b[1;32mor\u001b[0m \u001b[0mWord2VecKeyedVectors\u001b[0m\u001b[1;33m.\u001b[0m\u001b[0mmost_similar\u001b[0m\u001b[1;33m\u001b[0m\u001b[1;33m\u001b[0m\u001b[0m\n\u001b[1;32m-> 1032\u001b[1;33m         \u001b[1;32mreturn\u001b[0m \u001b[0mself\u001b[0m\u001b[1;33m.\u001b[0m\u001b[0mwv\u001b[0m\u001b[1;33m.\u001b[0m\u001b[0maccuracy\u001b[0m\u001b[1;33m(\u001b[0m\u001b[0mquestions\u001b[0m\u001b[1;33m,\u001b[0m \u001b[0mrestrict_vocab\u001b[0m\u001b[1;33m,\u001b[0m \u001b[0mmost_similar\u001b[0m\u001b[1;33m,\u001b[0m \u001b[0mcase_insensitive\u001b[0m\u001b[1;33m)\u001b[0m\u001b[1;33m\u001b[0m\u001b[1;33m\u001b[0m\u001b[0m\n\u001b[0m\u001b[0;32m   1033\u001b[0m \u001b[1;33m\u001b[0m\u001b[0m\n\u001b[0;32m   1034\u001b[0m     \u001b[1;32mdef\u001b[0m \u001b[0m__str__\u001b[0m\u001b[1;33m(\u001b[0m\u001b[0mself\u001b[0m\u001b[1;33m)\u001b[0m\u001b[1;33m:\u001b[0m\u001b[1;33m\u001b[0m\u001b[1;33m\u001b[0m\u001b[0m\n",
      "\u001b[1;32mD:\\ProgramData\\Anaconda3\\lib\\site-packages\\gensim\\utils.py\u001b[0m in \u001b[0;36mnew_func1\u001b[1;34m(*args, **kwargs)\u001b[0m\n\u001b[0;32m   1459\u001b[0m                     \u001b[0mstacklevel\u001b[0m\u001b[1;33m=\u001b[0m\u001b[1;36m2\u001b[0m\u001b[1;33m\u001b[0m\u001b[1;33m\u001b[0m\u001b[0m\n\u001b[0;32m   1460\u001b[0m                 )\n\u001b[1;32m-> 1461\u001b[1;33m                 \u001b[1;32mreturn\u001b[0m \u001b[0mfunc\u001b[0m\u001b[1;33m(\u001b[0m\u001b[1;33m*\u001b[0m\u001b[0margs\u001b[0m\u001b[1;33m,\u001b[0m \u001b[1;33m**\u001b[0m\u001b[0mkwargs\u001b[0m\u001b[1;33m)\u001b[0m\u001b[1;33m\u001b[0m\u001b[1;33m\u001b[0m\u001b[0m\n\u001b[0m\u001b[0;32m   1462\u001b[0m \u001b[1;33m\u001b[0m\u001b[0m\n\u001b[0;32m   1463\u001b[0m             \u001b[1;32mreturn\u001b[0m \u001b[0mnew_func1\u001b[0m\u001b[1;33m\u001b[0m\u001b[1;33m\u001b[0m\u001b[0m\n",
      "\u001b[1;32mD:\\ProgramData\\Anaconda3\\lib\\site-packages\\gensim\\models\\keyedvectors.py\u001b[0m in \u001b[0;36maccuracy\u001b[1;34m(self, questions, restrict_vocab, most_similar, case_insensitive)\u001b[0m\n\u001b[0;32m   1177\u001b[0m \u001b[1;33m\u001b[0m\u001b[0m\n\u001b[0;32m   1178\u001b[0m         \u001b[0msections\u001b[0m\u001b[1;33m,\u001b[0m \u001b[0msection\u001b[0m \u001b[1;33m=\u001b[0m \u001b[1;33m[\u001b[0m\u001b[1;33m]\u001b[0m\u001b[1;33m,\u001b[0m \u001b[1;32mNone\u001b[0m\u001b[1;33m\u001b[0m\u001b[1;33m\u001b[0m\u001b[0m\n\u001b[1;32m-> 1179\u001b[1;33m         \u001b[1;32mwith\u001b[0m \u001b[0mutils\u001b[0m\u001b[1;33m.\u001b[0m\u001b[0mopen\u001b[0m\u001b[1;33m(\u001b[0m\u001b[0mquestions\u001b[0m\u001b[1;33m,\u001b[0m \u001b[1;34m'rb'\u001b[0m\u001b[1;33m)\u001b[0m \u001b[1;32mas\u001b[0m \u001b[0mfin\u001b[0m\u001b[1;33m:\u001b[0m\u001b[1;33m\u001b[0m\u001b[1;33m\u001b[0m\u001b[0m\n\u001b[0m\u001b[0;32m   1180\u001b[0m             \u001b[1;32mfor\u001b[0m \u001b[0mline_no\u001b[0m\u001b[1;33m,\u001b[0m \u001b[0mline\u001b[0m \u001b[1;32min\u001b[0m \u001b[0menumerate\u001b[0m\u001b[1;33m(\u001b[0m\u001b[0mfin\u001b[0m\u001b[1;33m)\u001b[0m\u001b[1;33m:\u001b[0m\u001b[1;33m\u001b[0m\u001b[1;33m\u001b[0m\u001b[0m\n\u001b[0;32m   1181\u001b[0m                 \u001b[1;31m# TODO: use level3 BLAS (=evaluate multiple questions at once), for speed\u001b[0m\u001b[1;33m\u001b[0m\u001b[1;33m\u001b[0m\u001b[1;33m\u001b[0m\u001b[0m\n",
      "\u001b[1;32mD:\\ProgramData\\Anaconda3\\lib\\site-packages\\smart_open\\smart_open_lib.py\u001b[0m in \u001b[0;36mopen\u001b[1;34m(uri, mode, buffering, encoding, errors, newline, closefd, opener, ignore_ext, transport_params)\u001b[0m\n\u001b[0;32m    222\u001b[0m     \u001b[1;31m#\u001b[0m\u001b[1;33m\u001b[0m\u001b[1;33m\u001b[0m\u001b[1;33m\u001b[0m\u001b[0m\n\u001b[0;32m    223\u001b[0m     \u001b[0mbinary_mode\u001b[0m \u001b[1;33m=\u001b[0m \u001b[0m_TO_BINARY_LUT\u001b[0m\u001b[1;33m.\u001b[0m\u001b[0mget\u001b[0m\u001b[1;33m(\u001b[0m\u001b[0mmode\u001b[0m\u001b[1;33m,\u001b[0m \u001b[0mmode\u001b[0m\u001b[1;33m)\u001b[0m\u001b[1;33m\u001b[0m\u001b[1;33m\u001b[0m\u001b[0m\n\u001b[1;32m--> 224\u001b[1;33m     \u001b[0mbinary\u001b[0m \u001b[1;33m=\u001b[0m \u001b[0m_open_binary_stream\u001b[0m\u001b[1;33m(\u001b[0m\u001b[0muri\u001b[0m\u001b[1;33m,\u001b[0m \u001b[0mbinary_mode\u001b[0m\u001b[1;33m,\u001b[0m \u001b[0mtransport_params\u001b[0m\u001b[1;33m)\u001b[0m\u001b[1;33m\u001b[0m\u001b[1;33m\u001b[0m\u001b[0m\n\u001b[0m\u001b[0;32m    225\u001b[0m     \u001b[1;32mif\u001b[0m \u001b[0mignore_ext\u001b[0m\u001b[1;33m:\u001b[0m\u001b[1;33m\u001b[0m\u001b[1;33m\u001b[0m\u001b[0m\n\u001b[0;32m    226\u001b[0m         \u001b[0mdecompressed\u001b[0m \u001b[1;33m=\u001b[0m \u001b[0mbinary\u001b[0m\u001b[1;33m\u001b[0m\u001b[1;33m\u001b[0m\u001b[0m\n",
      "\u001b[1;32mD:\\ProgramData\\Anaconda3\\lib\\site-packages\\smart_open\\smart_open_lib.py\u001b[0m in \u001b[0;36m_open_binary_stream\u001b[1;34m(uri, mode, transport_params)\u001b[0m\n\u001b[0;32m    393\u001b[0m \u001b[1;33m\u001b[0m\u001b[0m\n\u001b[0;32m    394\u001b[0m     \u001b[1;32mif\u001b[0m \u001b[1;32mnot\u001b[0m \u001b[0misinstance\u001b[0m\u001b[1;33m(\u001b[0m\u001b[0muri\u001b[0m\u001b[1;33m,\u001b[0m \u001b[0mstr\u001b[0m\u001b[1;33m)\u001b[0m\u001b[1;33m:\u001b[0m\u001b[1;33m\u001b[0m\u001b[1;33m\u001b[0m\u001b[0m\n\u001b[1;32m--> 395\u001b[1;33m         \u001b[1;32mraise\u001b[0m \u001b[0mTypeError\u001b[0m\u001b[1;33m(\u001b[0m\u001b[1;34m\"don't know how to handle uri %r\"\u001b[0m \u001b[1;33m%\u001b[0m \u001b[0muri\u001b[0m\u001b[1;33m)\u001b[0m\u001b[1;33m\u001b[0m\u001b[1;33m\u001b[0m\u001b[0m\n\u001b[0m\u001b[0;32m    396\u001b[0m \u001b[1;33m\u001b[0m\u001b[0m\n\u001b[0;32m    397\u001b[0m     \u001b[0mscheme\u001b[0m \u001b[1;33m=\u001b[0m \u001b[0m_sniff_scheme\u001b[0m\u001b[1;33m(\u001b[0m\u001b[0muri\u001b[0m\u001b[1;33m)\u001b[0m\u001b[1;33m\u001b[0m\u001b[1;33m\u001b[0m\u001b[0m\n",
      "\u001b[1;31mTypeError\u001b[0m: don't know how to handle uri array([2, 1, 1, 1, 0, 1, 2, 1, 1, 2, 2, 2, 1, 2, 2, 0, 1, 2, 2, 2, 2, 2,\n       0, 2, 1, 2, 1, 0, 1, 2, 2, 2, 1, 0, 2, 2, 2, 2, 2, 0, 0, 0, 2, 1,\n       0, 2, 2, 2, 0, 1, 0, 1, 0, 1, 1, 2, 2, 1, 1, 2, 1, 0, 2, 2, 0, 2,\n       1, 2, 2, 1, 1, 2, 1, 2, 2, 1, 1, 2, 2, 2, 2, 1, 0, 2, 2, 0, 2, 2,\n       1, 0, 1, 1, 0, 1, 1, 2, 2, 1, 1, 0, 2, 2, 2, 2, 2, 1, 2, 1, 2, 2,\n       2, 1, 2, 2, 2, 2, 0, 2, 1, 2, 0, 2, 2, 0, 0, 1, 2, 2, 1, 2, 2, 2,\n       2, 2, 2, 1, 2, 2, 1, 2, 1, 1, 2, 0, 2, 1, 2, 2, 0, 2, 2, 1, 1, 2,\n       2, 1, 0, 2, 1, 1, 0, 2, 1, 1, 1, 1, 2, 1, 2, 2, 2, 1, 1, 0, 2, 2,\n       2, 0, 0, 2, 0, 2, 2, 2, 2, 1, 2, 1, 0, 1, 2, 2, 2, 2, 1, 2, 0, 1,\n       2, 2, 2, 1, 0, 1, 2, 1, 2, 2, 2, 1, 0, 0, 2, 1, 0, 1, 1, 0, 2, 2,\n       0, 2, 2, 0, 1, 2, 1, 2, 2, 2, 1, 2, 2, 2, 2, 2, 0, 2, 1, 2, 2, 1,\n       1, 2, 0, 0, 1, 2, 2, 2, 2, 1, 1, 2, 1, 0, 0, 1, 2, 2, 1, 1, 2, 2,\n       2, 0, 0, 2, 1, 1, 0, 2, 2, 2, 0, 1, 2, 1, 1, 2, 2, 2, 2, 2, 0, 2,\n       1, 2, 2, 2, 2, 1, 2, 1, 2, 1, 2, 1, 1, 2, 1, 0, 2, 0, 2, 1, 1, 1,\n       0, 2, 1, 2, 1, 1, 2, 2, 2, 2, 1, 1, 1, 2, 2, 1, 1, 1, 1, 2, 2, 2,\n       1, 1, 2, 1, 1, 0, 0, 2, 0, 2, 2, 1, 1, 2, 2, 2, 0, 1, 1, 2, 2, 1,\n       2, 2, 2, 1, 2, 2, 1, 1, 1, 1, 2, 1, 2, 0, 1, 1, 0, 1, 2, 1, 0, 1,\n       1, 2, 0, 1, 0, 2, 0, 1, 1, 2, 0, 1, 2, 1, 2, 2, 2, 1, 2, 1, 1, 0,\n       2, 2, 2, 2, 2, 2, 2, 1, 2, 2, 1, 2, 1, 1, 1, 0, 0, 1, 1, 1, 1, 1,\n       2, 1, 0, 2, 1, 1, 2, 1, 2, 2, 1, 2, 2, 0, 1, 1, 1, 0, 1, 1, 2, 2,\n       2, 2, 2, 1, 2, 2, 2, 0, 1, 2, 0, 2, 2, 2, 2, 1, 1, 2, 1, 0, 1, 1,\n       2, 1, 1, 0, 1, 2, 1, 2, 2, 1, 2, 2, 2, 1, 2, 1, 1, 1, 2, 1, 2, 2,\n       0, 2, 2, 1, 1, 2, 1, 0, 2, 1, 2, 0, 1, 1, 2, 1, 2, 2, 1, 1, 2, 2,\n       1, 2, 1, 2, 2, 2, 1, 1, 0, 1, 1, 2, 2, 1, 2, 0, 1, 1, 0, 1, 0, 2,\n       2, 0, 2, 2, 2, 2, 1, 1, 1, 2, 1, 1, 2, 2, 1, 0, 1, 1, 2, 2, 2, 1,\n       0, 2, 2, 1, 2, 2, 2, 1, 2, 0, 0, 2, 2, 2, 2, 2, 2, 0, 2, 2, 1, 2,\n       2, 1, 2, 2, 2, 1, 2, 0, 1, 2, 0, 1, 1, 2, 2, 1, 1, 2, 2, 2, 1, 1,\n       1, 1, 0, 2, 1, 2], dtype=int64)"
     ]
    }
   ],
   "source": [
    "accuracy = word2vec_model.accuracy(pred)\n"
   ]
  },
  {
   "cell_type": "code",
   "execution_count": 45,
   "metadata": {},
   "outputs": [],
   "source": [
    "rounded_labels=np.argmax(y_test, axis=1)"
   ]
  },
  {
   "cell_type": "code",
   "execution_count": 46,
   "metadata": {},
   "outputs": [
    {
     "data": {
      "text/plain": [
       "array([[ 37,  20,  94],\n",
       "       [ 18, 141,  99],\n",
       "       [ 35,  55, 101]], dtype=int64)"
      ]
     },
     "execution_count": 46,
     "metadata": {},
     "output_type": "execute_result"
    }
   ],
   "source": [
    "cm = confusion_matrix(rounded_labels,pred)\n",
    "cm"
   ]
  },
  {
   "cell_type": "code",
   "execution_count": 47,
   "metadata": {},
   "outputs": [
    {
     "data": {
      "text/plain": [
       "<matplotlib.axes._subplots.AxesSubplot at 0x21d57720a08>"
      ]
     },
     "execution_count": 47,
     "metadata": {},
     "output_type": "execute_result"
    },
    {
     "data": {
      "image/png": "[encoded data removed]",
      "text/plain": [
       "<Figure size 360x360 with 1 Axes>"
      ]
     },
     "metadata": {
      "needs_background": "light"
     },
     "output_type": "display_data"
    }
   ],
   "source": [
    "class_names = ['Olumlu','Olumsuz','Nötr']\n",
    "cm = pd.DataFrame(cm , index = class_names , columns = class_names)\n",
    "plt.figure(figsize = (5,5))\n",
    "sns.heatmap(cm,cmap= \"Blues\", linecolor = 'black' ,cbar=False, linewidth = 1 , annot = True, fmt='' , xticklabels = class_names , yticklabels = class_names)"
   ]
  },
  {
   "cell_type": "code",
   "execution_count": null,
   "metadata": {},
   "outputs": [],
   "source": []
  },
  {
   "cell_type": "code",
   "execution_count": null,
   "metadata": {},
   "outputs": [],
   "source": []
  }
 ],
 "metadata": {
  "kernelspec": {
   "display_name": "Python 3",
   "language": "python",
   "name": "python3"
  },
  "language_info": {
   "codemirror_mode": {
    "name": "ipython",
    "version": 3
   },
   "file_extension": ".py",
   "mimetype": "text/x-python",
   "name": "python",
   "nbconvert_exporter": "python",
   "pygments_lexer": "ipython3",
   "version": "3.7.6"
  }
 },
 "nbformat": 4,
 "nbformat_minor": 4
}
