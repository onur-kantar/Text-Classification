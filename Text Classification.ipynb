{
 "cells": [
  {
   "cell_type": "code",
   "execution_count": 7,
   "metadata": {},
   "outputs": [
    {
     "name": "stdout",
     "output_type": "stream",
     "text": [
      "3000tweet/1.txt\n",
      "1\n",
      "3000tweet/2.txt\n",
      "2\n",
      "3000tweet/3.txt\n",
      "3\n"
     ]
    }
   ],
   "source": [
    "import glob\n",
    "\n",
    "def map_first_lines(file_list):\n",
    "        for file in file_list:\n",
    "            with open(file, 'rt') as fd:\n",
    "                yield fd.readline()\n",
    "                \n",
    "def merge_first_lines(file_list, filename):\n",
    "    with open(filename, 'w') as f:\n",
    "        for line in map_first_lines(file_list):\n",
    "            f.write(\"%s\\n\" % line)\n",
    "            \n",
    "for i in range(1, 4):\n",
    "    files = glob.glob(\"3000tweet/\"+str(i)+\"/*.txt\")\n",
    "    filename='3000tweet/'+str(i)+'.txt'\n",
    "    merge_first_lines(files,filename)\n",
    "\n",
    "\n",
    "\n"
   ]
  },
  {
   "cell_type": "code",
   "execution_count": null,
   "metadata": {},
   "outputs": [],
   "source": []
  },
  {
   "cell_type": "code",
   "execution_count": null,
   "metadata": {},
   "outputs": [],
   "source": []
  }
 ],
 "metadata": {
  "kernelspec": {
   "display_name": "Python 3",
   "language": "python",
   "name": "python3"
  },
  "language_info": {
   "codemirror_mode": {
    "name": "ipython",
    "version": 3
   },
   "file_extension": ".py",
   "mimetype": "text/x-python",
   "name": "python",
   "nbconvert_exporter": "python",
   "pygments_lexer": "ipython3",
   "version": "3.7.6"
  }
 },
 "nbformat": 4,
 "nbformat_minor": 4
}
