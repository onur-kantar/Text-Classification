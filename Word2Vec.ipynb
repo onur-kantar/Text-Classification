{
 "cells": [
  {
   "cell_type": "markdown",
   "metadata": {},
   "source": [
    "# Ön Bilgi\n",
    "**Geliştirenler :** Onur Kantar - Ömer Resul Ertan\n",
    "\n",
    "**Veri Kümesinin İçeriği :** 3 farklı sınıfa ait toplamda 3000 tweet bulunmaktadır.\n",
    "\n",
    "**Tweet Sınıfları :** \n",
    "\n",
    "-\tOlumlu Tweetler\n",
    "-\tOlumsuz Tweetler\n",
    "-\tNötr Tweetler\n",
    "\n",
    "**Veri Kümesi Referansı :** \"Eğiticili ve Geleneksel Terim Ağırlıklandırma Yöntemleriyle Duygu Analizi\", Mahmut Çetin, M.Fatih Amasyalı, SIU 2013, KKTC\n",
    "\n",
    "**Algoritma :** Word2Vec\n",
    "\n",
    "**Ağ Mimarisi :** \n",
    "\n",
    "- Embedding(500)\n",
    "- LSTM(150)\n",
    "- Dense(3)\n",
    "\n",
    "batch_size = 16\n",
    "\n",
    "epochs = 3\n",
    "\n",
    "~%87 doğruluk oranı elde ediliyor."
   ]
  },
  {
   "cell_type": "code",
   "execution_count": 1,
   "metadata": {},
   "outputs": [
    {
     "name": "stderr",
     "output_type": "stream",
     "text": [
      "Using TensorFlow backend.\n"
     ]
    }
   ],
   "source": [
    "import numpy as np\n",
    "import pandas as pd\n",
    "from gensim.models.word2vec import Word2Vec\n",
    "from sklearn.model_selection import train_test_split\n",
    "from keras.utils import to_categorical\n",
    "from keras.layers import Dense, Dropout, Conv1D, MaxPool1D, GlobalMaxPool1D, Activation, LSTM\n",
    "from keras.preprocessing.text import Tokenizer\n",
    "from keras.preprocessing.sequence import pad_sequences\n",
    "from keras.models import Sequential\n",
    "import re\n",
    "import nltk\n",
    "from nltk.corpus import stopwords\n",
    "from sklearn import preprocessing\n",
    "from gensim.parsing.preprocessing import remove_stopwords\n",
    "from sklearn.metrics import confusion_matrix\n",
    "from mlxtend.plotting import plot_confusion_matrix\n",
    "import matplotlib.pyplot as plt\n",
    "from sklearn.preprocessing import StandardScaler"
   ]
  },
  {
   "cell_type": "markdown",
   "metadata": {},
   "source": [
    "# Veri Kümemizi Ekleyelim : "
   ]
  },
  {
   "cell_type": "code",
   "execution_count": 2,
   "metadata": {},
   "outputs": [],
   "source": [
    "tweets = pd.read_csv(\"3000tweet/3000tweet.csv\", sep=';', encoding=\"utf8\")"
   ]
  },
  {
   "cell_type": "markdown",
   "metadata": {},
   "source": [
    "# Veri Kümemizi Tanıyalım : "
   ]
  },
  {
   "cell_type": "code",
   "execution_count": 3,
   "metadata": {
    "scrolled": true
   },
   "outputs": [
    {
     "data": {
      "text/html": [
       "<div>\n",
       "<style scoped>\n",
       "    .dataframe tbody tr th:only-of-type {\n",
       "        vertical-align: middle;\n",
       "    }\n",
       "\n",
       "    .dataframe tbody tr th {\n",
       "        vertical-align: top;\n",
       "    }\n",
       "\n",
       "    .dataframe thead th {\n",
       "        text-align: right;\n",
       "    }\n",
       "</style>\n",
       "<table border=\"1\" class=\"dataframe\">\n",
       "  <thead>\n",
       "    <tr style=\"text-align: right;\">\n",
       "      <th></th>\n",
       "      <th>tweet</th>\n",
       "      <th>durum</th>\n",
       "    </tr>\n",
       "  </thead>\n",
       "  <tbody>\n",
       "    <tr>\n",
       "      <th>0</th>\n",
       "      <td>dun Turkcelle tepkilerimizden sonra bugün Turk...</td>\n",
       "      <td>1</td>\n",
       "    </tr>\n",
       "    <tr>\n",
       "      <th>1</th>\n",
       "      <td>girmezmiyim.. Turkcell kartim bile var.. Yarin...</td>\n",
       "      <td>1</td>\n",
       "    </tr>\n",
       "    <tr>\n",
       "      <th>2</th>\n",
       "      <td>tam tünelden gecerken 3g cekiyordu :D türkcell...</td>\n",
       "      <td>1</td>\n",
       "    </tr>\n",
       "    <tr>\n",
       "      <th>3</th>\n",
       "      <td>turkcell superonline fiber internet veya ADSL ...</td>\n",
       "      <td>1</td>\n",
       "    </tr>\n",
       "    <tr>\n",
       "      <th>4</th>\n",
       "      <td>bence Gnçtrkcll Ark Winterfest 2012'de 1.olur ...</td>\n",
       "      <td>1</td>\n",
       "    </tr>\n",
       "    <tr>\n",
       "      <th>...</th>\n",
       "      <td>...</td>\n",
       "      <td>...</td>\n",
       "    </tr>\n",
       "    <tr>\n",
       "      <th>2995</th>\n",
       "      <td>Evet kesinlikle çok az.. Turkcell bu konuda şu...</td>\n",
       "      <td>3</td>\n",
       "    </tr>\n",
       "    <tr>\n",
       "      <th>2996</th>\n",
       "      <td>selocan nedir abicim ya ?</td>\n",
       "      <td>3</td>\n",
       "    </tr>\n",
       "    <tr>\n",
       "      <th>2997</th>\n",
       "      <td>özturkcell e dönücz diye korkuyorum ama çanakk...</td>\n",
       "      <td>3</td>\n",
       "    </tr>\n",
       "    <tr>\n",
       "      <th>2998</th>\n",
       "      <td>turkcell se 532 yi ara puk kodunu ogrenme menu...</td>\n",
       "      <td>3</td>\n",
       "    </tr>\n",
       "    <tr>\n",
       "      <th>2999</th>\n",
       "      <td>CHIP Galaxy Y ve Chat Türkiye'de!: Samsung'un ...</td>\n",
       "      <td>3</td>\n",
       "    </tr>\n",
       "  </tbody>\n",
       "</table>\n",
       "<p>3000 rows × 2 columns</p>\n",
       "</div>"
      ],
      "text/plain": [
       "                                                  tweet  durum\n",
       "0     dun Turkcelle tepkilerimizden sonra bugün Turk...      1\n",
       "1     girmezmiyim.. Turkcell kartim bile var.. Yarin...      1\n",
       "2     tam tünelden gecerken 3g cekiyordu :D türkcell...      1\n",
       "3     turkcell superonline fiber internet veya ADSL ...      1\n",
       "4     bence Gnçtrkcll Ark Winterfest 2012'de 1.olur ...      1\n",
       "...                                                 ...    ...\n",
       "2995  Evet kesinlikle çok az.. Turkcell bu konuda şu...      3\n",
       "2996                          selocan nedir abicim ya ?      3\n",
       "2997  özturkcell e dönücz diye korkuyorum ama çanakk...      3\n",
       "2998  turkcell se 532 yi ara puk kodunu ogrenme menu...      3\n",
       "2999  CHIP Galaxy Y ve Chat Türkiye'de!: Samsung'un ...      3\n",
       "\n",
       "[3000 rows x 2 columns]"
      ]
     },
     "execution_count": 3,
     "metadata": {},
     "output_type": "execute_result"
    }
   ],
   "source": [
    "tweets"
   ]
  },
  {
   "cell_type": "markdown",
   "metadata": {},
   "source": [
    "# Veri Kümemizi Düzenleyelim : "
   ]
  },
  {
   "cell_type": "markdown",
   "metadata": {},
   "source": [
    "### NULL Değerleri Silme İşlemi : "
   ]
  },
  {
   "cell_type": "code",
   "execution_count": 4,
   "metadata": {},
   "outputs": [
    {
     "data": {
      "text/plain": [
       "tweet    1\n",
       "durum    0\n",
       "dtype: int64"
      ]
     },
     "execution_count": 4,
     "metadata": {},
     "output_type": "execute_result"
    }
   ],
   "source": [
    "tweets.isnull().sum()"
   ]
  },
  {
   "cell_type": "code",
   "execution_count": 5,
   "metadata": {},
   "outputs": [
    {
     "data": {
      "text/plain": [
       "tweet    0\n",
       "durum    0\n",
       "dtype: int64"
      ]
     },
     "execution_count": 5,
     "metadata": {},
     "output_type": "execute_result"
    }
   ],
   "source": [
    "tweets = tweets.dropna().reset_index(drop=True)\n",
    "tweets.isnull().sum()"
   ]
  },
  {
   "cell_type": "markdown",
   "metadata": {},
   "source": [
    "### Gereksiz Kelimeleri - Boşukları - İşaretleri Silme İşlemleri :  "
   ]
  },
  {
   "cell_type": "code",
   "execution_count": 6,
   "metadata": {
    "scrolled": true
   },
   "outputs": [
    {
     "data": {
      "text/plain": [
       "['acaba',\n",
       " 'ama',\n",
       " 'aslında',\n",
       " 'az',\n",
       " 'bazı',\n",
       " 'belki',\n",
       " 'biri',\n",
       " 'birkaç',\n",
       " 'birşey',\n",
       " 'biz',\n",
       " 'bu',\n",
       " 'çok',\n",
       " 'çünkü',\n",
       " 'da',\n",
       " 'daha',\n",
       " 'de',\n",
       " 'defa',\n",
       " 'diye',\n",
       " 'eğer',\n",
       " 'en',\n",
       " 'gibi',\n",
       " 'hem',\n",
       " 'hep',\n",
       " 'hepsi',\n",
       " 'her',\n",
       " 'hiç',\n",
       " 'için',\n",
       " 'ile',\n",
       " 'ise',\n",
       " 'kez',\n",
       " 'ki',\n",
       " 'kim',\n",
       " 'mı',\n",
       " 'mi',\n",
       " 'mu',\n",
       " 'mü',\n",
       " 'nasıl',\n",
       " 'ne',\n",
       " 'neden',\n",
       " 'nerde',\n",
       " 'nerede',\n",
       " 'nereye',\n",
       " 'niçin',\n",
       " 'niye',\n",
       " 'o',\n",
       " 'sanki',\n",
       " 'şey',\n",
       " 'siz',\n",
       " 'şu',\n",
       " 'tüm',\n",
       " 've',\n",
       " 'veya',\n",
       " 'ya',\n",
       " 'yani']"
      ]
     },
     "execution_count": 6,
     "metadata": {},
     "output_type": "execute_result"
    }
   ],
   "source": [
    "stop_word_list = stopwords.words('turkish')\n",
    "stop_word_list"
   ]
  },
  {
   "cell_type": "code",
   "execution_count": 7,
   "metadata": {},
   "outputs": [],
   "source": [
    "def preprocess_text(sen):\n",
    "    \n",
    "    # Sayıları Silme İşlemi\n",
    "    sentence = re.sub('[\\d\\s]', ' ', str(sen))\n",
    "\n",
    "    # Noktalama İşaretlerini Silme İşlemi\n",
    "    sentence = re.sub('[^\\w\\s]', ' ', str(sentence))\n",
    "    \n",
    "    # Tek Karakterleri Silme İşlemi\n",
    "    sentence = re.sub(r\"\\b[\\w\\s]\\b\", ' ',str(sentence))\n",
    "    \n",
    "    # Birden Çok Boşluğu Silme İşlemi\n",
    "    sentence = re.sub(r'\\s+', ' ', sentence)\n",
    "        \n",
    "    # Engellenecek Kelimeleri Silme İşlemi\n",
    "    WPT = nltk.WordPunctTokenizer()\n",
    "    tokens = WPT.tokenize(sentence)\n",
    "    filtered_tokens = [token for token in tokens if token not in stop_word_list]\n",
    "    single_doc = ' '.join(filtered_tokens)\n",
    "    \n",
    "    # Tüm Harfler Küçük Harfe Dönüştürülüyor\n",
    "    return single_doc.lower()"
   ]
  },
  {
   "cell_type": "code",
   "execution_count": 8,
   "metadata": {},
   "outputs": [],
   "source": [
    "x = tweets['tweet']\n",
    "y = tweets['durum']"
   ]
  },
  {
   "cell_type": "code",
   "execution_count": 9,
   "metadata": {},
   "outputs": [
    {
     "data": {
      "text/html": [
       "<div>\n",
       "<style scoped>\n",
       "    .dataframe tbody tr th:only-of-type {\n",
       "        vertical-align: middle;\n",
       "    }\n",
       "\n",
       "    .dataframe tbody tr th {\n",
       "        vertical-align: top;\n",
       "    }\n",
       "\n",
       "    .dataframe thead th {\n",
       "        text-align: right;\n",
       "    }\n",
       "</style>\n",
       "<table border=\"1\" class=\"dataframe\">\n",
       "  <thead>\n",
       "    <tr style=\"text-align: right;\">\n",
       "      <th></th>\n",
       "      <th>tweet</th>\n",
       "    </tr>\n",
       "  </thead>\n",
       "  <tbody>\n",
       "    <tr>\n",
       "      <th>0</th>\n",
       "      <td>dun turkcelle tepkilerimizden sonra bugün turk...</td>\n",
       "    </tr>\n",
       "    <tr>\n",
       "      <th>1</th>\n",
       "      <td>girmezmiyim turkcell kartim bile var yarindan ...</td>\n",
       "    </tr>\n",
       "    <tr>\n",
       "      <th>2</th>\n",
       "      <td>tam tünelden gecerken cekiyordu türkcell in re...</td>\n",
       "    </tr>\n",
       "    <tr>\n",
       "      <th>3</th>\n",
       "      <td>turkcell superonline fiber internet adsl sabit...</td>\n",
       "    </tr>\n",
       "    <tr>\n",
       "      <th>4</th>\n",
       "      <td>bence gnçtrkcll ark winterfest olur gelir</td>\n",
       "    </tr>\n",
       "    <tr>\n",
       "      <th>...</th>\n",
       "      <td>...</td>\n",
       "    </tr>\n",
       "    <tr>\n",
       "      <th>2994</th>\n",
       "      <td>evet kesinlikle turkcell konuda an uygun değil...</td>\n",
       "    </tr>\n",
       "    <tr>\n",
       "      <th>2995</th>\n",
       "      <td>selocan nedir abicim</td>\n",
       "    </tr>\n",
       "    <tr>\n",
       "      <th>2996</th>\n",
       "      <td>özturkcell dönücz korkuyorum çanakkale holding...</td>\n",
       "    </tr>\n",
       "    <tr>\n",
       "      <th>2997</th>\n",
       "      <td>turkcell se yi ara puk kodunu ogrenme menusund...</td>\n",
       "    </tr>\n",
       "    <tr>\n",
       "      <th>2998</th>\n",
       "      <td>chip galaxy chat türkiye samsung un kompakt ce...</td>\n",
       "    </tr>\n",
       "  </tbody>\n",
       "</table>\n",
       "<p>2999 rows × 1 columns</p>\n",
       "</div>"
      ],
      "text/plain": [
       "                                                  tweet\n",
       "0     dun turkcelle tepkilerimizden sonra bugün turk...\n",
       "1     girmezmiyim turkcell kartim bile var yarindan ...\n",
       "2     tam tünelden gecerken cekiyordu türkcell in re...\n",
       "3     turkcell superonline fiber internet adsl sabit...\n",
       "4             bence gnçtrkcll ark winterfest olur gelir\n",
       "...                                                 ...\n",
       "2994  evet kesinlikle turkcell konuda an uygun değil...\n",
       "2995                               selocan nedir abicim\n",
       "2996  özturkcell dönücz korkuyorum çanakkale holding...\n",
       "2997  turkcell se yi ara puk kodunu ogrenme menusund...\n",
       "2998  chip galaxy chat türkiye samsung un kompakt ce...\n",
       "\n",
       "[2999 rows x 1 columns]"
      ]
     },
     "execution_count": 9,
     "metadata": {},
     "output_type": "execute_result"
    }
   ],
   "source": [
    "x = x.apply(preprocess_text)\n",
    "pd.DataFrame(data=x)"
   ]
  },
  {
   "cell_type": "markdown",
   "metadata": {},
   "source": [
    "### Kelimeleri Ayıralım ve Kelime Hazinesi Oluşturalım : "
   ]
  },
  {
   "cell_type": "code",
   "execution_count": 10,
   "metadata": {},
   "outputs": [
    {
     "name": "stdout",
     "output_type": "stream",
     "text": [
      "['dun', 'turkcelle', 'tepkilerimizden', 'sonra', 'bugün', 'turkcell', 'twittera', 'sponsor', 'olmuş', 'ne', 'tesadüf', 'değil']\n"
     ]
    }
   ],
   "source": [
    "words = []\n",
    "for i in x:\n",
    "    words.append(i.split())\n",
    "\n",
    "print(words[0])"
   ]
  },
  {
   "cell_type": "markdown",
   "metadata": {},
   "source": [
    "Şimdi Word2Vec, \"words\" dizisindeki tüm benzersiz kelimeleri alacak, böylece kelime hazinesi inşa edecek."
   ]
  },
  {
   "cell_type": "code",
   "execution_count": 11,
   "metadata": {},
   "outputs": [
    {
     "name": "stdout",
     "output_type": "stream",
     "text": [
      "Word2Vec(vocab=11748, size=150, alpha=0.025)\n"
     ]
    }
   ],
   "source": [
    "word2vec_model = Word2Vec(words, size=150, window=3, min_count=1, workers=16)\n",
    "print(word2vec_model)"
   ]
  },
  {
   "cell_type": "markdown",
   "metadata": {},
   "source": [
    "Aşağıda, bir Word2Vec modelini tanımlamak için kullandığımız dört parametrenin tanımını sağlıyorum:\n",
    "\n",
    "- **size :** Sözcük vektörlerinin boyutsallığı anlamına gelir. Her bir kelimeyi temsil etmek için kullanılan belirteçlerin sayısını tanımlar. \n",
    "\n",
    "    - **Pratik kural :** Bir veri kümesi küçükse, boyut da küçük olmalıdır. Bir veri kümesi büyükse, boyut da daha büyük olmalıdır.\n",
    "\n",
    "\n",
    "- **window :** Hedef sözcük ile komşu sözcüğü arasındaki maksimum mesafe. Örneğin, 5 kelimeyle \"Turkcell harika bir iletişim operatörü\" ifadesini alalım. Pencere boyutu 3 ise, \"Turkcell\" kelimesinin vektörü \"harika\", \"bir\" ve \"iletişim\" kelimelerinden doğrudan etkilenir.\n",
    "    - **Pratik kural :** Daha küçük bir pencere daha alakalı terimler sağlamalıdır\n",
    "    \n",
    "    \n",
    "- **min_count :** Toplam frekansı bundan daha düşük olan tüm kelimeleri yok sayar. Örneğin, kelime sıklığı aşırı derecede düşükse, bu kelime önemsiz olarak kabul edilebilir.\n",
    "\n",
    "\n",
    "- **workers :** Modeli eğitmek için kullanılan işçi, iş parçacığı sayısı.\n",
    "\n"
   ]
  },
  {
   "cell_type": "code",
   "execution_count": 12,
   "metadata": {},
   "outputs": [
    {
     "name": "stdout",
     "output_type": "stream",
     "text": [
      "Word2Vec(vocab=11748, size=150, alpha=0.025)\n"
     ]
    }
   ],
   "source": [
    "print(word2vec_model)"
   ]
  },
  {
   "cell_type": "markdown",
   "metadata": {},
   "source": [
    "### Kelimeleri Vectörlere Dönüştürelim : \n",
    "\n",
    "Veri setimizin işlenebilmesi için text verileri numaralara çevirmemiz gerekir.\n"
   ]
  },
  {
   "cell_type": "code",
   "execution_count": 13,
   "metadata": {},
   "outputs": [],
   "source": [
    "token = Tokenizer(11748)\n",
    "# Her kelimenin sıklığını hesaplar\n",
    "token.fit_on_texts(x)\n",
    "# Tüm kelimeleri sayı dizisine dönüştürür\n",
    "x = token.texts_to_sequences(x)\n",
    "# Bütün metinlerimiz en uzun kelimeden oluşan metnimiz kadar sütundan oluşan (23) bir dizi ile temsil edilecek.\n",
    "# 23'den kısa metinlerin boşlukları 0'lar ile doldurulacak.\n",
    "x = pad_sequences(x)"
   ]
  },
  {
   "cell_type": "code",
   "execution_count": 14,
   "metadata": {},
   "outputs": [
    {
     "data": {
      "text/html": [
       "<div>\n",
       "<style scoped>\n",
       "    .dataframe tbody tr th:only-of-type {\n",
       "        vertical-align: middle;\n",
       "    }\n",
       "\n",
       "    .dataframe tbody tr th {\n",
       "        vertical-align: top;\n",
       "    }\n",
       "\n",
       "    .dataframe thead th {\n",
       "        text-align: right;\n",
       "    }\n",
       "</style>\n",
       "<table border=\"1\" class=\"dataframe\">\n",
       "  <thead>\n",
       "    <tr style=\"text-align: right;\">\n",
       "      <th></th>\n",
       "      <th>0</th>\n",
       "      <th>1</th>\n",
       "      <th>2</th>\n",
       "      <th>3</th>\n",
       "      <th>4</th>\n",
       "      <th>5</th>\n",
       "      <th>6</th>\n",
       "      <th>7</th>\n",
       "      <th>8</th>\n",
       "      <th>9</th>\n",
       "      <th>...</th>\n",
       "      <th>13</th>\n",
       "      <th>14</th>\n",
       "      <th>15</th>\n",
       "      <th>16</th>\n",
       "      <th>17</th>\n",
       "      <th>18</th>\n",
       "      <th>19</th>\n",
       "      <th>20</th>\n",
       "      <th>21</th>\n",
       "      <th>22</th>\n",
       "    </tr>\n",
       "  </thead>\n",
       "  <tbody>\n",
       "    <tr>\n",
       "      <th>690</th>\n",
       "      <td>0</td>\n",
       "      <td>0</td>\n",
       "      <td>0</td>\n",
       "      <td>0</td>\n",
       "      <td>0</td>\n",
       "      <td>0</td>\n",
       "      <td>0</td>\n",
       "      <td>0</td>\n",
       "      <td>0</td>\n",
       "      <td>0</td>\n",
       "      <td>...</td>\n",
       "      <td>1</td>\n",
       "      <td>845</td>\n",
       "      <td>1065</td>\n",
       "      <td>8</td>\n",
       "      <td>4777</td>\n",
       "      <td>4778</td>\n",
       "      <td>4779</td>\n",
       "      <td>531</td>\n",
       "      <td>194</td>\n",
       "      <td>4780</td>\n",
       "    </tr>\n",
       "    <tr>\n",
       "      <th>564</th>\n",
       "      <td>0</td>\n",
       "      <td>0</td>\n",
       "      <td>0</td>\n",
       "      <td>0</td>\n",
       "      <td>0</td>\n",
       "      <td>0</td>\n",
       "      <td>0</td>\n",
       "      <td>0</td>\n",
       "      <td>0</td>\n",
       "      <td>0</td>\n",
       "      <td>...</td>\n",
       "      <td>2143</td>\n",
       "      <td>2143</td>\n",
       "      <td>2144</td>\n",
       "      <td>456</td>\n",
       "      <td>49</td>\n",
       "      <td>2145</td>\n",
       "      <td>410</td>\n",
       "      <td>31</td>\n",
       "      <td>1</td>\n",
       "      <td>31</td>\n",
       "    </tr>\n",
       "    <tr>\n",
       "      <th>346</th>\n",
       "      <td>0</td>\n",
       "      <td>0</td>\n",
       "      <td>0</td>\n",
       "      <td>0</td>\n",
       "      <td>0</td>\n",
       "      <td>0</td>\n",
       "      <td>0</td>\n",
       "      <td>1</td>\n",
       "      <td>130</td>\n",
       "      <td>313</td>\n",
       "      <td>...</td>\n",
       "      <td>3953</td>\n",
       "      <td>3954</td>\n",
       "      <td>3955</td>\n",
       "      <td>12</td>\n",
       "      <td>130</td>\n",
       "      <td>3956</td>\n",
       "      <td>83</td>\n",
       "      <td>1009</td>\n",
       "      <td>356</td>\n",
       "      <td>101</td>\n",
       "    </tr>\n",
       "    <tr>\n",
       "      <th>2922</th>\n",
       "      <td>0</td>\n",
       "      <td>0</td>\n",
       "      <td>0</td>\n",
       "      <td>0</td>\n",
       "      <td>0</td>\n",
       "      <td>0</td>\n",
       "      <td>0</td>\n",
       "      <td>0</td>\n",
       "      <td>0</td>\n",
       "      <td>0</td>\n",
       "      <td>...</td>\n",
       "      <td>11486</td>\n",
       "      <td>15</td>\n",
       "      <td>11487</td>\n",
       "      <td>11488</td>\n",
       "      <td>1</td>\n",
       "      <td>851</td>\n",
       "      <td>612</td>\n",
       "      <td>2</td>\n",
       "      <td>11489</td>\n",
       "      <td>2675</td>\n",
       "    </tr>\n",
       "    <tr>\n",
       "      <th>83</th>\n",
       "      <td>0</td>\n",
       "      <td>0</td>\n",
       "      <td>0</td>\n",
       "      <td>0</td>\n",
       "      <td>0</td>\n",
       "      <td>0</td>\n",
       "      <td>0</td>\n",
       "      <td>0</td>\n",
       "      <td>0</td>\n",
       "      <td>0</td>\n",
       "      <td>...</td>\n",
       "      <td>0</td>\n",
       "      <td>0</td>\n",
       "      <td>0</td>\n",
       "      <td>0</td>\n",
       "      <td>0</td>\n",
       "      <td>0</td>\n",
       "      <td>1</td>\n",
       "      <td>15</td>\n",
       "      <td>235</td>\n",
       "      <td>1824</td>\n",
       "    </tr>\n",
       "  </tbody>\n",
       "</table>\n",
       "<p>5 rows × 23 columns</p>\n",
       "</div>"
      ],
      "text/plain": [
       "      0   1   2   3   4   5   6   7    8    9   ...     13    14     15  \\\n",
       "690    0   0   0   0   0   0   0   0    0    0  ...      1   845   1065   \n",
       "564    0   0   0   0   0   0   0   0    0    0  ...   2143  2143   2144   \n",
       "346    0   0   0   0   0   0   0   1  130  313  ...   3953  3954   3955   \n",
       "2922   0   0   0   0   0   0   0   0    0    0  ...  11486    15  11487   \n",
       "83     0   0   0   0   0   0   0   0    0    0  ...      0     0      0   \n",
       "\n",
       "         16    17    18    19    20     21    22  \n",
       "690       8  4777  4778  4779   531    194  4780  \n",
       "564     456    49  2145   410    31      1    31  \n",
       "346      12   130  3956    83  1009    356   101  \n",
       "2922  11488     1   851   612     2  11489  2675  \n",
       "83        0     0     0     1    15    235  1824  \n",
       "\n",
       "[5 rows x 23 columns]"
      ]
     },
     "execution_count": 14,
     "metadata": {},
     "output_type": "execute_result"
    }
   ],
   "source": [
    "pd.DataFrame(x).sample(5)"
   ]
  },
  {
   "cell_type": "markdown",
   "metadata": {},
   "source": [
    "### Vectörlere Ölçeklendirelim : "
   ]
  },
  {
   "cell_type": "markdown",
   "metadata": {},
   "source": [
    "**Verileri Ölçeklendirme Nedir?**"
   ]
  },
  {
   "cell_type": "markdown",
   "metadata": {},
   "source": [
    "Ölçeklendirme dediğimiz şey veri setindeki iki farklı özelliğin (değişkenin) değerlerini en doğru şekilde analiz edebilmemize olanak sağlayan bir yöntemdir.\n",
    "\n",
    "- Verilerinizin dağılımının ortalama değeri 0 ve standart sapma değeri 1 olacak şekilde değiştiriyoruz (Standartlaştırma).\n",
    "- Tutarlılık oluşuyor. Bir veri diğer verilerden daha büyükse diğerleri üzerinde egemenlik kurabilir. Bunu istemeyiz.\n",
    "- Bir öğrenme modeliyle çalışırken, özellikleri sıfır merkezli bir aralığa ölçeklemek önemlidir.\n",
    "- Değerleri karşılaştırmak yerine oranları karşılaştırmış oluruz.\n",
    "\n",
    "**Örnek :**\n",
    "\n",
    "İki farklı insan düşünelim. Bu insanların birisinin geliri ayda 5.000 Türk Lirası iken diğerinin geliri ayda 200.000 Türk Lirası olsun. Bu insanların ikisi de her ay belirli miktarda maddi yardım için maaşlarının bir kısmını ayırıyorlar. Diyelim ki 5.000 Türk Lirası maaşı olan şahıs 1.500 Türk Lirasını yardıma ayırıyorken, 200.000 Türk Lirası alan şahıs 10.000 Türk Lirasını yardım için ayırıyor.\n",
    "\n",
    "Normal bir gözle bakarsak 10.000 Türk Lirası yardımda bulunan kişinin daha fazla yardım yaptığını görürüz. Fakat bunu oranladığımızda 5.000 Türk Lirası alan kişinin oransal olarak kat kat fazla yardım yaptığı anlaşılacaktır. İşte özellik ölçeklendirme ile biz bu özelliklerin sayısal değerlerinin birbirine yakın olmasını sağlayıp aralarındaki değerleri karşılaştırmak yerine oranları karşılaştırır."
   ]
  },
  {
   "cell_type": "code",
   "execution_count": 15,
   "metadata": {
    "scrolled": false
   },
   "outputs": [],
   "source": [
    "scaler = StandardScaler()\n",
    "x = scaler.fit_transform(x)"
   ]
  },
  {
   "cell_type": "code",
   "execution_count": 16,
   "metadata": {},
   "outputs": [
    {
     "data": {
      "text/html": [
       "<div>\n",
       "<style scoped>\n",
       "    .dataframe tbody tr th:only-of-type {\n",
       "        vertical-align: middle;\n",
       "    }\n",
       "\n",
       "    .dataframe tbody tr th {\n",
       "        vertical-align: top;\n",
       "    }\n",
       "\n",
       "    .dataframe thead th {\n",
       "        text-align: right;\n",
       "    }\n",
       "</style>\n",
       "<table border=\"1\" class=\"dataframe\">\n",
       "  <thead>\n",
       "    <tr style=\"text-align: right;\">\n",
       "      <th></th>\n",
       "      <th>0</th>\n",
       "      <th>1</th>\n",
       "      <th>2</th>\n",
       "      <th>3</th>\n",
       "      <th>4</th>\n",
       "      <th>5</th>\n",
       "      <th>6</th>\n",
       "      <th>7</th>\n",
       "      <th>8</th>\n",
       "      <th>9</th>\n",
       "      <th>...</th>\n",
       "      <th>13</th>\n",
       "      <th>14</th>\n",
       "      <th>15</th>\n",
       "      <th>16</th>\n",
       "      <th>17</th>\n",
       "      <th>18</th>\n",
       "      <th>19</th>\n",
       "      <th>20</th>\n",
       "      <th>21</th>\n",
       "      <th>22</th>\n",
       "    </tr>\n",
       "  </thead>\n",
       "  <tbody>\n",
       "    <tr>\n",
       "      <th>1611</th>\n",
       "      <td>-0.018317</td>\n",
       "      <td>-0.022986</td>\n",
       "      <td>-0.033492</td>\n",
       "      <td>-0.042425</td>\n",
       "      <td>-0.075203</td>\n",
       "      <td>-0.116017</td>\n",
       "      <td>-0.162864</td>\n",
       "      <td>-0.220584</td>\n",
       "      <td>-0.277525</td>\n",
       "      <td>-0.319007</td>\n",
       "      <td>...</td>\n",
       "      <td>-0.480518</td>\n",
       "      <td>-0.514448</td>\n",
       "      <td>-0.553587</td>\n",
       "      <td>0.134468</td>\n",
       "      <td>1.793735</td>\n",
       "      <td>-0.664434</td>\n",
       "      <td>1.625224</td>\n",
       "      <td>-0.587391</td>\n",
       "      <td>1.331860</td>\n",
       "      <td>-0.810616</td>\n",
       "    </tr>\n",
       "    <tr>\n",
       "      <th>2375</th>\n",
       "      <td>-0.018317</td>\n",
       "      <td>-0.022986</td>\n",
       "      <td>-0.033492</td>\n",
       "      <td>-0.042425</td>\n",
       "      <td>-0.075203</td>\n",
       "      <td>-0.116017</td>\n",
       "      <td>-0.162864</td>\n",
       "      <td>-0.220584</td>\n",
       "      <td>-0.277525</td>\n",
       "      <td>-0.319007</td>\n",
       "      <td>...</td>\n",
       "      <td>-0.471509</td>\n",
       "      <td>3.005217</td>\n",
       "      <td>0.488574</td>\n",
       "      <td>2.607797</td>\n",
       "      <td>2.495372</td>\n",
       "      <td>-0.658017</td>\n",
       "      <td>-0.118499</td>\n",
       "      <td>2.164484</td>\n",
       "      <td>1.949844</td>\n",
       "      <td>-0.828146</td>\n",
       "    </tr>\n",
       "    <tr>\n",
       "      <th>287</th>\n",
       "      <td>-0.018317</td>\n",
       "      <td>-0.022986</td>\n",
       "      <td>-0.033492</td>\n",
       "      <td>-0.042425</td>\n",
       "      <td>-0.075203</td>\n",
       "      <td>-0.116017</td>\n",
       "      <td>-0.162864</td>\n",
       "      <td>-0.220584</td>\n",
       "      <td>-0.277525</td>\n",
       "      <td>-0.319007</td>\n",
       "      <td>...</td>\n",
       "      <td>-0.480518</td>\n",
       "      <td>-0.514448</td>\n",
       "      <td>-0.553587</td>\n",
       "      <td>-0.597395</td>\n",
       "      <td>-0.627655</td>\n",
       "      <td>0.505484</td>\n",
       "      <td>-0.315822</td>\n",
       "      <td>-0.717042</td>\n",
       "      <td>-0.616587</td>\n",
       "      <td>-0.297508</td>\n",
       "    </tr>\n",
       "    <tr>\n",
       "      <th>2251</th>\n",
       "      <td>-0.018317</td>\n",
       "      <td>-0.022986</td>\n",
       "      <td>-0.033492</td>\n",
       "      <td>-0.042425</td>\n",
       "      <td>-0.075203</td>\n",
       "      <td>-0.116017</td>\n",
       "      <td>-0.162864</td>\n",
       "      <td>-0.220584</td>\n",
       "      <td>-0.277525</td>\n",
       "      <td>-0.319007</td>\n",
       "      <td>...</td>\n",
       "      <td>-0.480518</td>\n",
       "      <td>-0.514448</td>\n",
       "      <td>-0.553587</td>\n",
       "      <td>-0.597395</td>\n",
       "      <td>-0.627655</td>\n",
       "      <td>-0.385474</td>\n",
       "      <td>0.022055</td>\n",
       "      <td>-0.706530</td>\n",
       "      <td>1.851725</td>\n",
       "      <td>-0.843729</td>\n",
       "    </tr>\n",
       "    <tr>\n",
       "      <th>2320</th>\n",
       "      <td>-0.018317</td>\n",
       "      <td>-0.022986</td>\n",
       "      <td>-0.033492</td>\n",
       "      <td>-0.042425</td>\n",
       "      <td>-0.075203</td>\n",
       "      <td>-0.116017</td>\n",
       "      <td>-0.162864</td>\n",
       "      <td>-0.220584</td>\n",
       "      <td>-0.277525</td>\n",
       "      <td>-0.319007</td>\n",
       "      <td>...</td>\n",
       "      <td>-0.480518</td>\n",
       "      <td>-0.514448</td>\n",
       "      <td>-0.553587</td>\n",
       "      <td>-0.597395</td>\n",
       "      <td>-0.627655</td>\n",
       "      <td>-0.596298</td>\n",
       "      <td>-0.690431</td>\n",
       "      <td>-0.717042</td>\n",
       "      <td>0.052965</td>\n",
       "      <td>-0.692634</td>\n",
       "    </tr>\n",
       "  </tbody>\n",
       "</table>\n",
       "<p>5 rows × 23 columns</p>\n",
       "</div>"
      ],
      "text/plain": [
       "            0         1         2         3         4         5         6   \\\n",
       "1611 -0.018317 -0.022986 -0.033492 -0.042425 -0.075203 -0.116017 -0.162864   \n",
       "2375 -0.018317 -0.022986 -0.033492 -0.042425 -0.075203 -0.116017 -0.162864   \n",
       "287  -0.018317 -0.022986 -0.033492 -0.042425 -0.075203 -0.116017 -0.162864   \n",
       "2251 -0.018317 -0.022986 -0.033492 -0.042425 -0.075203 -0.116017 -0.162864   \n",
       "2320 -0.018317 -0.022986 -0.033492 -0.042425 -0.075203 -0.116017 -0.162864   \n",
       "\n",
       "            7         8         9   ...        13        14        15  \\\n",
       "1611 -0.220584 -0.277525 -0.319007  ... -0.480518 -0.514448 -0.553587   \n",
       "2375 -0.220584 -0.277525 -0.319007  ... -0.471509  3.005217  0.488574   \n",
       "287  -0.220584 -0.277525 -0.319007  ... -0.480518 -0.514448 -0.553587   \n",
       "2251 -0.220584 -0.277525 -0.319007  ... -0.480518 -0.514448 -0.553587   \n",
       "2320 -0.220584 -0.277525 -0.319007  ... -0.480518 -0.514448 -0.553587   \n",
       "\n",
       "            16        17        18        19        20        21        22  \n",
       "1611  0.134468  1.793735 -0.664434  1.625224 -0.587391  1.331860 -0.810616  \n",
       "2375  2.607797  2.495372 -0.658017 -0.118499  2.164484  1.949844 -0.828146  \n",
       "287  -0.597395 -0.627655  0.505484 -0.315822 -0.717042 -0.616587 -0.297508  \n",
       "2251 -0.597395 -0.627655 -0.385474  0.022055 -0.706530  1.851725 -0.843729  \n",
       "2320 -0.597395 -0.627655 -0.596298 -0.690431 -0.717042  0.052965 -0.692634  \n",
       "\n",
       "[5 rows x 23 columns]"
      ]
     },
     "execution_count": 16,
     "metadata": {},
     "output_type": "execute_result"
    }
   ],
   "source": [
    "pd.DataFrame(x).sample(5)"
   ]
  },
  {
   "cell_type": "markdown",
   "metadata": {},
   "source": [
    "### Y Verilerimizi One Hot Encoding Uygulamamız Gerekiyor :  "
   ]
  },
  {
   "cell_type": "markdown",
   "metadata": {},
   "source": [
    "**One Hot Encoding Nedir?**\n",
    "\n",
    "One Hot Encoding, kategorik değişkenlerin ikili (binary) olarak temsil edilmesi anlamına gelmektedir. Bu işlem, ağın model için problemi daha kolay hale getirmesine yardımcı olabilir. \n",
    "\n",
    "\n",
    "- Bu işlem ilk önce kategorik değerlerin tamsayı değerleriyle eşlenmesini gerektirir.\n",
    "- Daha sonra, her bir tamsayı değeri, 1 ile işaretlenmiş tamsayı indeksi dışındaki tüm değerleri   sıfır  olan bir ikili vektör olarak temsil edilir."
   ]
  },
  {
   "cell_type": "code",
   "execution_count": 17,
   "metadata": {},
   "outputs": [
    {
     "data": {
      "text/html": [
       "<div>\n",
       "<style scoped>\n",
       "    .dataframe tbody tr th:only-of-type {\n",
       "        vertical-align: middle;\n",
       "    }\n",
       "\n",
       "    .dataframe tbody tr th {\n",
       "        vertical-align: top;\n",
       "    }\n",
       "\n",
       "    .dataframe thead th {\n",
       "        text-align: right;\n",
       "    }\n",
       "</style>\n",
       "<table border=\"1\" class=\"dataframe\">\n",
       "  <thead>\n",
       "    <tr style=\"text-align: right;\">\n",
       "      <th></th>\n",
       "      <th>durum</th>\n",
       "    </tr>\n",
       "  </thead>\n",
       "  <tbody>\n",
       "    <tr>\n",
       "      <th>282</th>\n",
       "      <td>1</td>\n",
       "    </tr>\n",
       "    <tr>\n",
       "      <th>1014</th>\n",
       "      <td>2</td>\n",
       "    </tr>\n",
       "    <tr>\n",
       "      <th>1789</th>\n",
       "      <td>2</td>\n",
       "    </tr>\n",
       "    <tr>\n",
       "      <th>1590</th>\n",
       "      <td>2</td>\n",
       "    </tr>\n",
       "    <tr>\n",
       "      <th>2263</th>\n",
       "      <td>3</td>\n",
       "    </tr>\n",
       "  </tbody>\n",
       "</table>\n",
       "</div>"
      ],
      "text/plain": [
       "      durum\n",
       "282       1\n",
       "1014      2\n",
       "1789      2\n",
       "1590      2\n",
       "2263      3"
      ]
     },
     "execution_count": 17,
     "metadata": {},
     "output_type": "execute_result"
    }
   ],
   "source": [
    "pd.DataFrame(y).sample(5)"
   ]
  },
  {
   "cell_type": "code",
   "execution_count": 18,
   "metadata": {},
   "outputs": [],
   "source": [
    "le = preprocessing.LabelEncoder()\n",
    "y = le.fit_transform(y)"
   ]
  },
  {
   "cell_type": "code",
   "execution_count": 19,
   "metadata": {},
   "outputs": [
    {
     "data": {
      "text/html": [
       "<div>\n",
       "<style scoped>\n",
       "    .dataframe tbody tr th:only-of-type {\n",
       "        vertical-align: middle;\n",
       "    }\n",
       "\n",
       "    .dataframe tbody tr th {\n",
       "        vertical-align: top;\n",
       "    }\n",
       "\n",
       "    .dataframe thead th {\n",
       "        text-align: right;\n",
       "    }\n",
       "</style>\n",
       "<table border=\"1\" class=\"dataframe\">\n",
       "  <thead>\n",
       "    <tr style=\"text-align: right;\">\n",
       "      <th></th>\n",
       "      <th>0</th>\n",
       "    </tr>\n",
       "  </thead>\n",
       "  <tbody>\n",
       "    <tr>\n",
       "      <th>1120</th>\n",
       "      <td>1</td>\n",
       "    </tr>\n",
       "    <tr>\n",
       "      <th>2298</th>\n",
       "      <td>2</td>\n",
       "    </tr>\n",
       "    <tr>\n",
       "      <th>868</th>\n",
       "      <td>1</td>\n",
       "    </tr>\n",
       "    <tr>\n",
       "      <th>964</th>\n",
       "      <td>1</td>\n",
       "    </tr>\n",
       "    <tr>\n",
       "      <th>861</th>\n",
       "      <td>1</td>\n",
       "    </tr>\n",
       "  </tbody>\n",
       "</table>\n",
       "</div>"
      ],
      "text/plain": [
       "      0\n",
       "1120  1\n",
       "2298  2\n",
       "868   1\n",
       "964   1\n",
       "861   1"
      ]
     },
     "execution_count": 19,
     "metadata": {},
     "output_type": "execute_result"
    }
   ],
   "source": [
    "pd.DataFrame(y).sample(5)"
   ]
  },
  {
   "cell_type": "code",
   "execution_count": 20,
   "metadata": {},
   "outputs": [],
   "source": [
    "y = to_categorical(y)"
   ]
  },
  {
   "cell_type": "code",
   "execution_count": 21,
   "metadata": {},
   "outputs": [
    {
     "data": {
      "text/html": [
       "<div>\n",
       "<style scoped>\n",
       "    .dataframe tbody tr th:only-of-type {\n",
       "        vertical-align: middle;\n",
       "    }\n",
       "\n",
       "    .dataframe tbody tr th {\n",
       "        vertical-align: top;\n",
       "    }\n",
       "\n",
       "    .dataframe thead th {\n",
       "        text-align: right;\n",
       "    }\n",
       "</style>\n",
       "<table border=\"1\" class=\"dataframe\">\n",
       "  <thead>\n",
       "    <tr style=\"text-align: right;\">\n",
       "      <th></th>\n",
       "      <th>0</th>\n",
       "      <th>1</th>\n",
       "      <th>2</th>\n",
       "    </tr>\n",
       "  </thead>\n",
       "  <tbody>\n",
       "    <tr>\n",
       "      <th>293</th>\n",
       "      <td>1.0</td>\n",
       "      <td>0.0</td>\n",
       "      <td>0.0</td>\n",
       "    </tr>\n",
       "    <tr>\n",
       "      <th>21</th>\n",
       "      <td>1.0</td>\n",
       "      <td>0.0</td>\n",
       "      <td>0.0</td>\n",
       "    </tr>\n",
       "    <tr>\n",
       "      <th>1387</th>\n",
       "      <td>0.0</td>\n",
       "      <td>1.0</td>\n",
       "      <td>0.0</td>\n",
       "    </tr>\n",
       "    <tr>\n",
       "      <th>1407</th>\n",
       "      <td>0.0</td>\n",
       "      <td>1.0</td>\n",
       "      <td>0.0</td>\n",
       "    </tr>\n",
       "    <tr>\n",
       "      <th>2742</th>\n",
       "      <td>0.0</td>\n",
       "      <td>0.0</td>\n",
       "      <td>1.0</td>\n",
       "    </tr>\n",
       "  </tbody>\n",
       "</table>\n",
       "</div>"
      ],
      "text/plain": [
       "        0    1    2\n",
       "293   1.0  0.0  0.0\n",
       "21    1.0  0.0  0.0\n",
       "1387  0.0  1.0  0.0\n",
       "1407  0.0  1.0  0.0\n",
       "2742  0.0  0.0  1.0"
      ]
     },
     "execution_count": 21,
     "metadata": {},
     "output_type": "execute_result"
    }
   ],
   "source": [
    "pd.DataFrame(y).sample(5)"
   ]
  },
  {
   "cell_type": "markdown",
   "metadata": {},
   "source": [
    "# Train ve Test İşlemleri İçin Ayrımı Gerçekleştirelim : "
   ]
  },
  {
   "cell_type": "code",
   "execution_count": 22,
   "metadata": {},
   "outputs": [],
   "source": [
    "x_train, x_test, y_train, y_test = train_test_split(x, y, test_size = 0.2, random_state = 42)"
   ]
  },
  {
   "cell_type": "code",
   "execution_count": 23,
   "metadata": {},
   "outputs": [
    {
     "name": "stdout",
     "output_type": "stream",
     "text": [
      "x Train : (2399, 23)\n",
      "x Test : (600, 23)\n",
      "y Train : (2399, 3)\n",
      "y Test : (600, 3)\n"
     ]
    }
   ],
   "source": [
    "print('x Train : ' + str(x_train.shape))\n",
    "print('x Test : ' + str(x_test.shape))\n",
    "print('y Train : ' + str(y_train.shape))\n",
    "print('y Test : ' + str(y_test.shape))"
   ]
  },
  {
   "cell_type": "markdown",
   "metadata": {},
   "source": [
    "# Katmanları Oluşturup Eğitime Başlayalım : "
   ]
  },
  {
   "cell_type": "markdown",
   "metadata": {},
   "source": [
    "**embedding :**\n",
    "\n",
    "**LSTM :** \n",
    "\n",
    "**Dense :** \n",
    "\n",
    "**sigmoid :** \n",
    "\n",
    "**adam :** \n",
    "\n",
    "**binary_crossentropy :** \n",
    "\n",
    "**Loss :** Loss fonksiyonu temelde modelin yaptığı tahminin, gerçek değerden ne kadar farklı olduğunu hesaplamaktadır.\n",
    "\n",
    "**accuracy :** Doğruluk oranı.\n",
    "\n",
    "**epoch :** Her bir eğitim adımında tekrarlanarak model için en uygun ağırlık değerleri hesaplanmaya çalışılır. Bu eğitim adımlarının her birine “epoch” denilmektedir.\n",
    "\n",
    "**batch_size :** Her seferinde ağa iletilecek örnek sayısı.\n",
    "\n",
    "**validation_data :** Her adımdan sonra kendini test verileriyle denemeye yarar."
   ]
  },
  {
   "cell_type": "code",
   "execution_count": 24,
   "metadata": {},
   "outputs": [
    {
     "name": "stderr",
     "output_type": "stream",
     "text": [
      "D:\\ProgramData\\Anaconda3\\lib\\site-packages\\tensorflow_core\\python\\framework\\indexed_slices.py:433: UserWarning: Converting sparse IndexedSlices to a dense Tensor of unknown shape. This may consume a large amount of memory.\n",
      "  \"Converting sparse IndexedSlices to a dense Tensor of unknown shape. \"\n"
     ]
    },
    {
     "name": "stdout",
     "output_type": "stream",
     "text": [
      "Train on 2399 samples, validate on 600 samples\n",
      "Epoch 1/3\n",
      "2399/2399 [==============================] - 7s 3ms/step - loss: 0.4647 - acc: 0.7723 - val_loss: 0.3011 - val_acc: 0.8744\n",
      "Epoch 2/3\n",
      "2399/2399 [==============================] - 7s 3ms/step - loss: 0.3032 - acc: 0.8562 - val_loss: 0.2734 - val_acc: 0.8811\n",
      "Epoch 3/3\n",
      "2399/2399 [==============================] - 7s 3ms/step - loss: 0.2819 - acc: 0.8705 - val_loss: 0.2679 - val_acc: 0.8889\n"
     ]
    }
   ],
   "source": [
    "keras_model = Sequential()\n",
    "\n",
    "keras_model.add(word2vec_model.wv.get_keras_embedding(True))\n",
    "keras_model.add(LSTM(units=150))\n",
    "keras_model.add(Dense(3, activation='sigmoid'))\n",
    "\n",
    "keras_model.compile(optimizer='adam', loss='binary_crossentropy', metrics=['acc'])\n",
    "history = keras_model.fit(x_train, y_train, batch_size=16, epochs=3, validation_data=(x_test, y_test))"
   ]
  },
  {
   "cell_type": "code",
   "execution_count": 25,
   "metadata": {},
   "outputs": [],
   "source": [
    "score = keras_model.evaluate(x_test, y_test, verbose = 0)"
   ]
  },
  {
   "cell_type": "code",
   "execution_count": 26,
   "metadata": {},
   "outputs": [
    {
     "name": "stdout",
     "output_type": "stream",
     "text": [
      "Test score: 0.2678638172149658\n",
      "Test accuracy: 0.8888888359069824\n"
     ]
    }
   ],
   "source": [
    "print('Test score:', score[0])\n",
    "print('Test accuracy:', score[1])"
   ]
  },
  {
   "cell_type": "markdown",
   "metadata": {},
   "source": [
    "# Sonuçları Değerlendirelim"
   ]
  },
  {
   "cell_type": "code",
   "execution_count": 27,
   "metadata": {},
   "outputs": [
    {
     "data": {
      "image/png": "[encoded data removed]",
      "text/plain": [
       "<Figure size 864x360 with 2 Axes>"
      ]
     },
     "metadata": {
      "needs_background": "light"
     },
     "output_type": "display_data"
    }
   ],
   "source": [
    "fig, ax = plt.subplots(2, 1, figsize=(12,5))\n",
    "ax[0].plot(history.history['loss'], color='b', label=\"Training loss\")\n",
    "ax[0].plot(history.history['val_loss'], color='r', label=\"Validation loss\",axes =ax[0])\n",
    "ax[0].grid(color='black', linestyle='-', linewidth=0.25)\n",
    "legend = ax[0].legend(loc='best', shadow=True)\n",
    "\n",
    "ax[1].plot(history.history['acc'], color='b', label=\"Training accuracy\")\n",
    "ax[1].plot(history.history['val_acc'], color='r',label=\"Validation accuracy\")\n",
    "ax[1].grid(color='black', linestyle='-', linewidth=0.25)\n",
    "legend = ax[1].legend(loc='best', shadow=True)"
   ]
  },
  {
   "cell_type": "code",
   "execution_count": 28,
   "metadata": {},
   "outputs": [],
   "source": [
    "y_pred = keras_model.predict(x_test)"
   ]
  },
  {
   "cell_type": "code",
   "execution_count": 29,
   "metadata": {},
   "outputs": [
    {
     "data": {
      "image/png": "[encoded data removed]",
      "text/plain": [
       "<Figure size 432x432 with 1 Axes>"
      ]
     },
     "metadata": {
      "needs_background": "light"
     },
     "output_type": "display_data"
    }
   ],
   "source": [
    "y_pred = keras_model.predict(x_test)\n",
    "\n",
    "y_test_class = np.argmax(y_test, axis=1)\n",
    "y_pred_class = np.argmax(y_pred, axis=1)\n",
    "\n",
    "cm = confusion_matrix(y_test_class, y_pred_class)\n",
    "\n",
    "class_names = ['Olumlu', 'Olumsuz', 'Nötr']\n",
    "\n",
    "fig, ax = plot_confusion_matrix(conf_mat=cm,\n",
    "                                show_normed=True,\n",
    "                                class_names=class_names,\n",
    "                                figsize =(6,6))"
   ]
  },
  {
   "cell_type": "code",
   "execution_count": null,
   "metadata": {},
   "outputs": [],
   "source": []
  }
 ],
 "metadata": {
  "kernelspec": {
   "display_name": "Python 3",
   "language": "python",
   "name": "python3"
  },
  "language_info": {
   "codemirror_mode": {
    "name": "ipython",
    "version": 3
   },
   "file_extension": ".py",
   "mimetype": "text/x-python",
   "name": "python",
   "nbconvert_exporter": "python",
   "pygments_lexer": "ipython3",
   "version": "3.7.6"
  }
 },
 "nbformat": 4,
 "nbformat_minor": 4
}
