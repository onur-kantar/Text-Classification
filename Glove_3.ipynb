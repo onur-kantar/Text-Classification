{
 "cells": [
  {
   "cell_type": "code",
   "execution_count": 2,
   "metadata": {},
   "outputs": [
    {
     "name": "stderr",
     "output_type": "stream",
     "text": [
      "Using TensorFlow backend.\n"
     ]
    }
   ],
   "source": [
    "import pandas as pd\n",
    "from nltk.corpus import stopwords\n",
    "import re\n",
    "import nltk\n",
    "from gensim.models.word2vec import Word2Vec\n",
    "from keras.preprocessing.text import Tokenizer\n",
    "from keras.preprocessing.sequence import pad_sequences\n",
    "from sklearn.preprocessing import StandardScaler\n",
    "from sklearn import preprocessing\n",
    "from keras.utils import to_categorical\n",
    "from sklearn.model_selection import train_test_split"
   ]
  },
  {
   "cell_type": "markdown",
   "metadata": {},
   "source": [
    "# Veri Kümemizi Ekleyelim : "
   ]
  },
  {
   "cell_type": "code",
   "execution_count": 2,
   "metadata": {},
   "outputs": [
    {
     "data": {
      "text/html": [
       "<div>\n",
       "<style scoped>\n",
       "    .dataframe tbody tr th:only-of-type {\n",
       "        vertical-align: middle;\n",
       "    }\n",
       "\n",
       "    .dataframe tbody tr th {\n",
       "        vertical-align: top;\n",
       "    }\n",
       "\n",
       "    .dataframe thead th {\n",
       "        text-align: right;\n",
       "    }\n",
       "</style>\n",
       "<table border=\"1\" class=\"dataframe\">\n",
       "  <thead>\n",
       "    <tr style=\"text-align: right;\">\n",
       "      <th></th>\n",
       "      <th>tweet</th>\n",
       "      <th>durum</th>\n",
       "    </tr>\n",
       "  </thead>\n",
       "  <tbody>\n",
       "    <tr>\n",
       "      <th>0</th>\n",
       "      <td>dun Turkcelle tepkilerimizden sonra bugün Turk...</td>\n",
       "      <td>1</td>\n",
       "    </tr>\n",
       "    <tr>\n",
       "      <th>1</th>\n",
       "      <td>girmezmiyim.. Turkcell kartim bile var.. Yarin...</td>\n",
       "      <td>1</td>\n",
       "    </tr>\n",
       "    <tr>\n",
       "      <th>2</th>\n",
       "      <td>tam tünelden gecerken 3g cekiyordu :D türkcell...</td>\n",
       "      <td>1</td>\n",
       "    </tr>\n",
       "    <tr>\n",
       "      <th>3</th>\n",
       "      <td>turkcell superonline fiber internet veya ADSL ...</td>\n",
       "      <td>1</td>\n",
       "    </tr>\n",
       "    <tr>\n",
       "      <th>4</th>\n",
       "      <td>bence Gnçtrkcll Ark Winterfest 2012'de 1.olur ...</td>\n",
       "      <td>1</td>\n",
       "    </tr>\n",
       "  </tbody>\n",
       "</table>\n",
       "</div>"
      ],
      "text/plain": [
       "                                               tweet  durum\n",
       "0  dun Turkcelle tepkilerimizden sonra bugün Turk...      1\n",
       "1  girmezmiyim.. Turkcell kartim bile var.. Yarin...      1\n",
       "2  tam tünelden gecerken 3g cekiyordu :D türkcell...      1\n",
       "3  turkcell superonline fiber internet veya ADSL ...      1\n",
       "4  bence Gnçtrkcll Ark Winterfest 2012'de 1.olur ...      1"
      ]
     },
     "execution_count": 2,
     "metadata": {},
     "output_type": "execute_result"
    }
   ],
   "source": [
    "tweets = pd.read_csv(\"3000tweet/3000tweet.csv\", sep=';', encoding=\"utf8\")\n",
    "tweets.head()"
   ]
  },
  {
   "cell_type": "markdown",
   "metadata": {},
   "source": [
    "# Veri Kümemizi Düzenleyelim : "
   ]
  },
  {
   "cell_type": "markdown",
   "metadata": {},
   "source": [
    "### NULL Değerleri Silme İşlemi : "
   ]
  },
  {
   "cell_type": "code",
   "execution_count": 3,
   "metadata": {},
   "outputs": [
    {
     "data": {
      "text/plain": [
       "tweet    1\n",
       "durum    0\n",
       "dtype: int64"
      ]
     },
     "execution_count": 3,
     "metadata": {},
     "output_type": "execute_result"
    }
   ],
   "source": [
    "tweets.isnull().sum()"
   ]
  },
  {
   "cell_type": "code",
   "execution_count": 4,
   "metadata": {},
   "outputs": [
    {
     "data": {
      "text/plain": [
       "tweet    0\n",
       "durum    0\n",
       "dtype: int64"
      ]
     },
     "execution_count": 4,
     "metadata": {},
     "output_type": "execute_result"
    }
   ],
   "source": [
    "tweets = tweets.dropna().reset_index(drop=True)\n",
    "tweets.isnull().sum()"
   ]
  },
  {
   "cell_type": "markdown",
   "metadata": {},
   "source": [
    "### Gereksiz Kelimeleri - Boşukları - İşaretleri Silme İşlemleri :  "
   ]
  },
  {
   "cell_type": "code",
   "execution_count": 5,
   "metadata": {
    "scrolled": true
   },
   "outputs": [
    {
     "data": {
      "text/plain": [
       "['acaba',\n",
       " 'ama',\n",
       " 'aslında',\n",
       " 'az',\n",
       " 'bazı',\n",
       " 'belki',\n",
       " 'biri',\n",
       " 'birkaç',\n",
       " 'birşey',\n",
       " 'biz',\n",
       " 'bu',\n",
       " 'çok',\n",
       " 'çünkü',\n",
       " 'da',\n",
       " 'daha',\n",
       " 'de',\n",
       " 'defa',\n",
       " 'diye',\n",
       " 'eğer',\n",
       " 'en',\n",
       " 'gibi',\n",
       " 'hem',\n",
       " 'hep',\n",
       " 'hepsi',\n",
       " 'her',\n",
       " 'hiç',\n",
       " 'için',\n",
       " 'ile',\n",
       " 'ise',\n",
       " 'kez',\n",
       " 'ki',\n",
       " 'kim',\n",
       " 'mı',\n",
       " 'mi',\n",
       " 'mu',\n",
       " 'mü',\n",
       " 'nasıl',\n",
       " 'ne',\n",
       " 'neden',\n",
       " 'nerde',\n",
       " 'nerede',\n",
       " 'nereye',\n",
       " 'niçin',\n",
       " 'niye',\n",
       " 'o',\n",
       " 'sanki',\n",
       " 'şey',\n",
       " 'siz',\n",
       " 'şu',\n",
       " 'tüm',\n",
       " 've',\n",
       " 'veya',\n",
       " 'ya',\n",
       " 'yani']"
      ]
     },
     "execution_count": 5,
     "metadata": {},
     "output_type": "execute_result"
    }
   ],
   "source": [
    "stop_word_list = stopwords.words('turkish')\n",
    "stop_word_list"
   ]
  },
  {
   "cell_type": "code",
   "execution_count": 6,
   "metadata": {},
   "outputs": [],
   "source": [
    "def preprocess_text(sen):\n",
    "    \n",
    "    # Sayıları Silme İşlemi\n",
    "    sentence = re.sub('[\\d\\s]', ' ', str(sen))\n",
    "\n",
    "    # Noktalama İşaretlerini Silme İşlemi\n",
    "    sentence = re.sub('[^\\w\\s]', ' ', str(sentence))\n",
    "    \n",
    "    # Tek Karakterleri Silme İşlemi\n",
    "    sentence = re.sub(r\"\\b[\\w\\s]\\b\", ' ', str(sentence))\n",
    "    \n",
    "    # Birden Çok Boşluğu Silme İşlemi\n",
    "    sentence = re.sub(r'\\s+', ' ', sentence)\n",
    "        \n",
    "    # Engellenecek Kelimeleri Silme İşlemi\n",
    "    WPT = nltk.WordPunctTokenizer()\n",
    "    tokens = WPT.tokenize(sentence)\n",
    "    filtered_tokens = [token for token in tokens if token not in stop_word_list]\n",
    "    single_doc = ' '.join(filtered_tokens)\n",
    "    \n",
    "    # Tüm Harfler Küçük Harfe Dönüştürülüyor\n",
    "    return single_doc.lower()"
   ]
  },
  {
   "cell_type": "code",
   "execution_count": 7,
   "metadata": {},
   "outputs": [],
   "source": [
    "x = tweets['tweet']\n",
    "y = tweets['durum']"
   ]
  },
  {
   "cell_type": "code",
   "execution_count": 8,
   "metadata": {
    "scrolled": false
   },
   "outputs": [
    {
     "data": {
      "text/html": [
       "<div>\n",
       "<style scoped>\n",
       "    .dataframe tbody tr th:only-of-type {\n",
       "        vertical-align: middle;\n",
       "    }\n",
       "\n",
       "    .dataframe tbody tr th {\n",
       "        vertical-align: top;\n",
       "    }\n",
       "\n",
       "    .dataframe thead th {\n",
       "        text-align: right;\n",
       "    }\n",
       "</style>\n",
       "<table border=\"1\" class=\"dataframe\">\n",
       "  <thead>\n",
       "    <tr style=\"text-align: right;\">\n",
       "      <th></th>\n",
       "      <th>tweet</th>\n",
       "    </tr>\n",
       "  </thead>\n",
       "  <tbody>\n",
       "    <tr>\n",
       "      <th>0</th>\n",
       "      <td>dun turkcelle tepkilerimizden sonra bugün turk...</td>\n",
       "    </tr>\n",
       "    <tr>\n",
       "      <th>1</th>\n",
       "      <td>girmezmiyim turkcell kartim bile var yarindan ...</td>\n",
       "    </tr>\n",
       "    <tr>\n",
       "      <th>2</th>\n",
       "      <td>tam tünelden gecerken cekiyordu türkcell in re...</td>\n",
       "    </tr>\n",
       "    <tr>\n",
       "      <th>3</th>\n",
       "      <td>turkcell superonline fiber internet adsl sabit...</td>\n",
       "    </tr>\n",
       "    <tr>\n",
       "      <th>4</th>\n",
       "      <td>bence gnçtrkcll ark winterfest olur gelir</td>\n",
       "    </tr>\n",
       "    <tr>\n",
       "      <th>...</th>\n",
       "      <td>...</td>\n",
       "    </tr>\n",
       "    <tr>\n",
       "      <th>2994</th>\n",
       "      <td>evet kesinlikle turkcell konuda an uygun değil...</td>\n",
       "    </tr>\n",
       "    <tr>\n",
       "      <th>2995</th>\n",
       "      <td>selocan nedir abicim</td>\n",
       "    </tr>\n",
       "    <tr>\n",
       "      <th>2996</th>\n",
       "      <td>özturkcell dönücz korkuyorum çanakkale holding...</td>\n",
       "    </tr>\n",
       "    <tr>\n",
       "      <th>2997</th>\n",
       "      <td>turkcell se yi ara puk kodunu ogrenme menusund...</td>\n",
       "    </tr>\n",
       "    <tr>\n",
       "      <th>2998</th>\n",
       "      <td>chip galaxy chat türkiye samsung un kompakt ce...</td>\n",
       "    </tr>\n",
       "  </tbody>\n",
       "</table>\n",
       "<p>2999 rows × 1 columns</p>\n",
       "</div>"
      ],
      "text/plain": [
       "                                                  tweet\n",
       "0     dun turkcelle tepkilerimizden sonra bugün turk...\n",
       "1     girmezmiyim turkcell kartim bile var yarindan ...\n",
       "2     tam tünelden gecerken cekiyordu türkcell in re...\n",
       "3     turkcell superonline fiber internet adsl sabit...\n",
       "4             bence gnçtrkcll ark winterfest olur gelir\n",
       "...                                                 ...\n",
       "2994  evet kesinlikle turkcell konuda an uygun değil...\n",
       "2995                               selocan nedir abicim\n",
       "2996  özturkcell dönücz korkuyorum çanakkale holding...\n",
       "2997  turkcell se yi ara puk kodunu ogrenme menusund...\n",
       "2998  chip galaxy chat türkiye samsung un kompakt ce...\n",
       "\n",
       "[2999 rows x 1 columns]"
      ]
     },
     "execution_count": 8,
     "metadata": {},
     "output_type": "execute_result"
    }
   ],
   "source": [
    "x = x.apply(preprocess_text)\n",
    "pd.DataFrame(data=x)"
   ]
  },
  {
   "cell_type": "markdown",
   "metadata": {},
   "source": [
    "### Kelimeleri Ayıralım ve Kelime Hazinesi Oluşturalım : "
   ]
  },
  {
   "cell_type": "code",
   "execution_count": 9,
   "metadata": {},
   "outputs": [
    {
     "name": "stdout",
     "output_type": "stream",
     "text": [
      "['dun', 'turkcelle', 'tepkilerimizden', 'sonra', 'bugün', 'turkcell', 'twittera', 'sponsor', 'olmuş', 'ne', 'tesadüf', 'değil']\n"
     ]
    }
   ],
   "source": [
    "words = []\n",
    "for i in x:\n",
    "    words.append(i.split())\n",
    "\n",
    "print(words[0])"
   ]
  },
  {
   "cell_type": "markdown",
   "metadata": {},
   "source": [
    "### Kelimeleri Vectörlere Dönüştürelim : \n",
    "\n",
    "Veri setimizin işlenebilmesi için text verileri numaralara çevirmemiz gerekir."
   ]
  },
  {
   "cell_type": "code",
   "execution_count": 10,
   "metadata": {},
   "outputs": [],
   "source": [
    "token = Tokenizer()\n",
    "# Her kelimenin sıklığını hesaplar\n",
    "token.fit_on_texts(x)\n",
    "# Tüm kelimeleri sayı dizisine dönüştürür\n",
    "x = token.texts_to_sequences(x)\n",
    "# Bütün metinlerimiz en uzun kelimeden oluşan metnimiz kadar sütundan oluşan (23) bir dizi ile temsil edilecek.\n",
    "# 23'den kısa metinlerin boşlukları 0'lar ile doldurulacak.\n",
    "x = pad_sequences(x)"
   ]
  },
  {
   "cell_type": "code",
   "execution_count": 11,
   "metadata": {},
   "outputs": [
    {
     "data": {
      "text/html": [
       "<div>\n",
       "<style scoped>\n",
       "    .dataframe tbody tr th:only-of-type {\n",
       "        vertical-align: middle;\n",
       "    }\n",
       "\n",
       "    .dataframe tbody tr th {\n",
       "        vertical-align: top;\n",
       "    }\n",
       "\n",
       "    .dataframe thead th {\n",
       "        text-align: right;\n",
       "    }\n",
       "</style>\n",
       "<table border=\"1\" class=\"dataframe\">\n",
       "  <thead>\n",
       "    <tr style=\"text-align: right;\">\n",
       "      <th></th>\n",
       "      <th>0</th>\n",
       "      <th>1</th>\n",
       "      <th>2</th>\n",
       "      <th>3</th>\n",
       "      <th>4</th>\n",
       "      <th>5</th>\n",
       "      <th>6</th>\n",
       "      <th>7</th>\n",
       "      <th>8</th>\n",
       "      <th>9</th>\n",
       "      <th>...</th>\n",
       "      <th>13</th>\n",
       "      <th>14</th>\n",
       "      <th>15</th>\n",
       "      <th>16</th>\n",
       "      <th>17</th>\n",
       "      <th>18</th>\n",
       "      <th>19</th>\n",
       "      <th>20</th>\n",
       "      <th>21</th>\n",
       "      <th>22</th>\n",
       "    </tr>\n",
       "  </thead>\n",
       "  <tbody>\n",
       "    <tr>\n",
       "      <th>1597</th>\n",
       "      <td>0</td>\n",
       "      <td>0</td>\n",
       "      <td>0</td>\n",
       "      <td>0</td>\n",
       "      <td>0</td>\n",
       "      <td>0</td>\n",
       "      <td>0</td>\n",
       "      <td>0</td>\n",
       "      <td>0</td>\n",
       "      <td>0</td>\n",
       "      <td>...</td>\n",
       "      <td>7611</td>\n",
       "      <td>7612</td>\n",
       "      <td>7613</td>\n",
       "      <td>12</td>\n",
       "      <td>1</td>\n",
       "      <td>510</td>\n",
       "      <td>507</td>\n",
       "      <td>43</td>\n",
       "      <td>683</td>\n",
       "      <td>9</td>\n",
       "    </tr>\n",
       "    <tr>\n",
       "      <th>228</th>\n",
       "      <td>0</td>\n",
       "      <td>0</td>\n",
       "      <td>0</td>\n",
       "      <td>0</td>\n",
       "      <td>0</td>\n",
       "      <td>0</td>\n",
       "      <td>0</td>\n",
       "      <td>279</td>\n",
       "      <td>3701</td>\n",
       "      <td>3702</td>\n",
       "      <td>...</td>\n",
       "      <td>1</td>\n",
       "      <td>20</td>\n",
       "      <td>267</td>\n",
       "      <td>482</td>\n",
       "      <td>21</td>\n",
       "      <td>175</td>\n",
       "      <td>464</td>\n",
       "      <td>984</td>\n",
       "      <td>9</td>\n",
       "      <td>1935</td>\n",
       "    </tr>\n",
       "    <tr>\n",
       "      <th>652</th>\n",
       "      <td>0</td>\n",
       "      <td>0</td>\n",
       "      <td>0</td>\n",
       "      <td>0</td>\n",
       "      <td>0</td>\n",
       "      <td>0</td>\n",
       "      <td>0</td>\n",
       "      <td>0</td>\n",
       "      <td>0</td>\n",
       "      <td>0</td>\n",
       "      <td>...</td>\n",
       "      <td>0</td>\n",
       "      <td>251</td>\n",
       "      <td>1</td>\n",
       "      <td>50</td>\n",
       "      <td>24</td>\n",
       "      <td>4706</td>\n",
       "      <td>2</td>\n",
       "      <td>2210</td>\n",
       "      <td>4707</td>\n",
       "      <td>1251</td>\n",
       "    </tr>\n",
       "    <tr>\n",
       "      <th>434</th>\n",
       "      <td>0</td>\n",
       "      <td>0</td>\n",
       "      <td>0</td>\n",
       "      <td>0</td>\n",
       "      <td>0</td>\n",
       "      <td>0</td>\n",
       "      <td>0</td>\n",
       "      <td>0</td>\n",
       "      <td>0</td>\n",
       "      <td>4164</td>\n",
       "      <td>...</td>\n",
       "      <td>31</td>\n",
       "      <td>757</td>\n",
       "      <td>26</td>\n",
       "      <td>395</td>\n",
       "      <td>4165</td>\n",
       "      <td>324</td>\n",
       "      <td>2067</td>\n",
       "      <td>85</td>\n",
       "      <td>4166</td>\n",
       "      <td>490</td>\n",
       "    </tr>\n",
       "    <tr>\n",
       "      <th>2066</th>\n",
       "      <td>0</td>\n",
       "      <td>0</td>\n",
       "      <td>0</td>\n",
       "      <td>0</td>\n",
       "      <td>0</td>\n",
       "      <td>0</td>\n",
       "      <td>0</td>\n",
       "      <td>0</td>\n",
       "      <td>0</td>\n",
       "      <td>0</td>\n",
       "      <td>...</td>\n",
       "      <td>0</td>\n",
       "      <td>0</td>\n",
       "      <td>0</td>\n",
       "      <td>0</td>\n",
       "      <td>255</td>\n",
       "      <td>3007</td>\n",
       "      <td>1209</td>\n",
       "      <td>9</td>\n",
       "      <td>2783</td>\n",
       "      <td>9038</td>\n",
       "    </tr>\n",
       "  </tbody>\n",
       "</table>\n",
       "<p>5 rows × 23 columns</p>\n",
       "</div>"
      ],
      "text/plain": [
       "      0   1   2   3   4   5   6    7     8     9   ...    13    14    15   16  \\\n",
       "1597   0   0   0   0   0   0   0    0     0     0  ...  7611  7612  7613   12   \n",
       "228    0   0   0   0   0   0   0  279  3701  3702  ...     1    20   267  482   \n",
       "652    0   0   0   0   0   0   0    0     0     0  ...     0   251     1   50   \n",
       "434    0   0   0   0   0   0   0    0     0  4164  ...    31   757    26  395   \n",
       "2066   0   0   0   0   0   0   0    0     0     0  ...     0     0     0    0   \n",
       "\n",
       "        17    18    19    20    21    22  \n",
       "1597     1   510   507    43   683     9  \n",
       "228     21   175   464   984     9  1935  \n",
       "652     24  4706     2  2210  4707  1251  \n",
       "434   4165   324  2067    85  4166   490  \n",
       "2066   255  3007  1209     9  2783  9038  \n",
       "\n",
       "[5 rows x 23 columns]"
      ]
     },
     "execution_count": 11,
     "metadata": {},
     "output_type": "execute_result"
    }
   ],
   "source": [
    "pd.DataFrame(x).sample(5)"
   ]
  },
  {
   "cell_type": "markdown",
   "metadata": {},
   "source": [
    "### Vectörlere Ölçeklendirelim : "
   ]
  },
  {
   "cell_type": "markdown",
   "metadata": {},
   "source": [
    "**Verileri Ölçeklendirme Nedir?**\n",
    "\n",
    "Ölçeklendirme dediğimiz şey veri setindeki iki farklı özelliğin (değişkenin) değerlerini en doğru şekilde analiz edebilmemize olanak sağlayan bir yöntemdir.\n",
    "\n",
    "- Verilerinizin dağılımının ortalama değeri 0 ve standart sapma değeri 1 olacak şekilde değiştiriyoruz (Standartlaştırma).\n",
    "- Tutarlılık oluşuyor. Bir veri diğer verilerden daha büyükse diğerleri üzerinde egemenlik kurabilir. Bunu istemeyiz.\n",
    "- Bir öğrenme modeliyle çalışırken, özellikleri sıfır merkezli bir aralığa ölçeklemek önemlidir.\n",
    "- Değerleri karşılaştırmak yerine oranları karşılaştırmış oluruz.\n",
    "\n",
    "**Örnek :**\n",
    "\n",
    "İki farklı insan düşünelim. Bu insanların birisinin geliri ayda 5.000 Türk Lirası iken diğerinin geliri ayda 200.000 Türk Lirası olsun. Bu insanların ikisi de her ay belirli miktarda maddi yardım için maaşlarının bir kısmını ayırıyorlar. Diyelim ki 5.000 Türk Lirası maaşı olan şahıs 1.500 Türk Lirasını yardıma ayırıyorken, 200.000 Türk Lirası alan şahıs 10.000 Türk Lirasını yardım için ayırıyor.\n",
    "\n",
    "Normal bir gözle bakarsak 10.000 Türk Lirası yardımda bulunan kişinin daha fazla yardım yaptığını görürüz. Fakat bunu oranladığımızda 5.000 Türk Lirası alan kişinin oransal olarak kat kat fazla yardım yaptığı anlaşılacaktır. İşte özellik ölçeklendirme ile biz bu özelliklerin sayısal değerlerinin birbirine yakın olmasını sağlayıp aralarındaki değerleri karşılaştırmak yerine oranları karşılaştırır."
   ]
  },
  {
   "cell_type": "code",
   "execution_count": 12,
   "metadata": {},
   "outputs": [],
   "source": [
    "scaler = StandardScaler()\n",
    "x = scaler.fit_transform(x)"
   ]
  },
  {
   "cell_type": "code",
   "execution_count": 13,
   "metadata": {},
   "outputs": [
    {
     "data": {
      "text/html": [
       "<div>\n",
       "<style scoped>\n",
       "    .dataframe tbody tr th:only-of-type {\n",
       "        vertical-align: middle;\n",
       "    }\n",
       "\n",
       "    .dataframe tbody tr th {\n",
       "        vertical-align: top;\n",
       "    }\n",
       "\n",
       "    .dataframe thead th {\n",
       "        text-align: right;\n",
       "    }\n",
       "</style>\n",
       "<table border=\"1\" class=\"dataframe\">\n",
       "  <thead>\n",
       "    <tr style=\"text-align: right;\">\n",
       "      <th></th>\n",
       "      <th>0</th>\n",
       "      <th>1</th>\n",
       "      <th>2</th>\n",
       "      <th>3</th>\n",
       "      <th>4</th>\n",
       "      <th>5</th>\n",
       "      <th>6</th>\n",
       "      <th>7</th>\n",
       "      <th>8</th>\n",
       "      <th>9</th>\n",
       "      <th>...</th>\n",
       "      <th>13</th>\n",
       "      <th>14</th>\n",
       "      <th>15</th>\n",
       "      <th>16</th>\n",
       "      <th>17</th>\n",
       "      <th>18</th>\n",
       "      <th>19</th>\n",
       "      <th>20</th>\n",
       "      <th>21</th>\n",
       "      <th>22</th>\n",
       "    </tr>\n",
       "  </thead>\n",
       "  <tbody>\n",
       "    <tr>\n",
       "      <th>2408</th>\n",
       "      <td>-0.018317</td>\n",
       "      <td>-0.022986</td>\n",
       "      <td>-0.033492</td>\n",
       "      <td>-0.042425</td>\n",
       "      <td>-0.075203</td>\n",
       "      <td>-0.116017</td>\n",
       "      <td>-0.162864</td>\n",
       "      <td>-0.220584</td>\n",
       "      <td>-0.277817</td>\n",
       "      <td>-0.318827</td>\n",
       "      <td>...</td>\n",
       "      <td>-0.480494</td>\n",
       "      <td>-0.514683</td>\n",
       "      <td>-0.553587</td>\n",
       "      <td>-0.597219</td>\n",
       "      <td>-0.627740</td>\n",
       "      <td>-0.664739</td>\n",
       "      <td>-0.697573</td>\n",
       "      <td>-0.717569</td>\n",
       "      <td>-0.801129</td>\n",
       "      <td>1.926648</td>\n",
       "    </tr>\n",
       "    <tr>\n",
       "      <th>1728</th>\n",
       "      <td>-0.018317</td>\n",
       "      <td>-0.022986</td>\n",
       "      <td>-0.033492</td>\n",
       "      <td>-0.042425</td>\n",
       "      <td>-0.075203</td>\n",
       "      <td>-0.116017</td>\n",
       "      <td>-0.162864</td>\n",
       "      <td>-0.220584</td>\n",
       "      <td>-0.277817</td>\n",
       "      <td>-0.299339</td>\n",
       "      <td>...</td>\n",
       "      <td>0.458902</td>\n",
       "      <td>2.355422</td>\n",
       "      <td>-0.540730</td>\n",
       "      <td>2.016367</td>\n",
       "      <td>-0.292579</td>\n",
       "      <td>-0.001104</td>\n",
       "      <td>0.175761</td>\n",
       "      <td>1.632382</td>\n",
       "      <td>-0.794440</td>\n",
       "      <td>1.391183</td>\n",
       "    </tr>\n",
       "    <tr>\n",
       "      <th>2898</th>\n",
       "      <td>-0.018317</td>\n",
       "      <td>-0.022986</td>\n",
       "      <td>-0.033492</td>\n",
       "      <td>-0.042425</td>\n",
       "      <td>-0.075203</td>\n",
       "      <td>-0.116017</td>\n",
       "      <td>-0.162864</td>\n",
       "      <td>-0.220584</td>\n",
       "      <td>-0.277817</td>\n",
       "      <td>-0.318827</td>\n",
       "      <td>...</td>\n",
       "      <td>-0.480494</td>\n",
       "      <td>-0.514683</td>\n",
       "      <td>-0.553587</td>\n",
       "      <td>-0.597219</td>\n",
       "      <td>-0.627740</td>\n",
       "      <td>-0.664739</td>\n",
       "      <td>-0.697573</td>\n",
       "      <td>-0.717569</td>\n",
       "      <td>-0.801129</td>\n",
       "      <td>-0.846318</td>\n",
       "    </tr>\n",
       "    <tr>\n",
       "      <th>222</th>\n",
       "      <td>-0.018317</td>\n",
       "      <td>-0.022986</td>\n",
       "      <td>-0.033492</td>\n",
       "      <td>-0.042425</td>\n",
       "      <td>-0.075203</td>\n",
       "      <td>-0.116017</td>\n",
       "      <td>3.123124</td>\n",
       "      <td>2.282152</td>\n",
       "      <td>0.728759</td>\n",
       "      <td>-0.296415</td>\n",
       "      <td>...</td>\n",
       "      <td>-0.307533</td>\n",
       "      <td>-0.045192</td>\n",
       "      <td>0.695991</td>\n",
       "      <td>-0.278236</td>\n",
       "      <td>-0.617928</td>\n",
       "      <td>-0.602103</td>\n",
       "      <td>-0.110797</td>\n",
       "      <td>-0.717277</td>\n",
       "      <td>-0.799457</td>\n",
       "      <td>-0.843816</td>\n",
       "    </tr>\n",
       "    <tr>\n",
       "      <th>61</th>\n",
       "      <td>-0.018317</td>\n",
       "      <td>-0.022986</td>\n",
       "      <td>-0.033492</td>\n",
       "      <td>-0.042425</td>\n",
       "      <td>-0.075203</td>\n",
       "      <td>-0.116017</td>\n",
       "      <td>-0.162864</td>\n",
       "      <td>-0.220584</td>\n",
       "      <td>-0.277817</td>\n",
       "      <td>-0.318827</td>\n",
       "      <td>...</td>\n",
       "      <td>-0.480494</td>\n",
       "      <td>-0.514683</td>\n",
       "      <td>-0.553587</td>\n",
       "      <td>-0.597219</td>\n",
       "      <td>-0.627740</td>\n",
       "      <td>-0.664739</td>\n",
       "      <td>-0.666610</td>\n",
       "      <td>-0.584112</td>\n",
       "      <td>-0.800293</td>\n",
       "      <td>-0.719263</td>\n",
       "    </tr>\n",
       "  </tbody>\n",
       "</table>\n",
       "<p>5 rows × 23 columns</p>\n",
       "</div>"
      ],
      "text/plain": [
       "            0         1         2         3         4         5         6   \\\n",
       "2408 -0.018317 -0.022986 -0.033492 -0.042425 -0.075203 -0.116017 -0.162864   \n",
       "1728 -0.018317 -0.022986 -0.033492 -0.042425 -0.075203 -0.116017 -0.162864   \n",
       "2898 -0.018317 -0.022986 -0.033492 -0.042425 -0.075203 -0.116017 -0.162864   \n",
       "222  -0.018317 -0.022986 -0.033492 -0.042425 -0.075203 -0.116017  3.123124   \n",
       "61   -0.018317 -0.022986 -0.033492 -0.042425 -0.075203 -0.116017 -0.162864   \n",
       "\n",
       "            7         8         9   ...        13        14        15  \\\n",
       "2408 -0.220584 -0.277817 -0.318827  ... -0.480494 -0.514683 -0.553587   \n",
       "1728 -0.220584 -0.277817 -0.299339  ...  0.458902  2.355422 -0.540730   \n",
       "2898 -0.220584 -0.277817 -0.318827  ... -0.480494 -0.514683 -0.553587   \n",
       "222   2.282152  0.728759 -0.296415  ... -0.307533 -0.045192  0.695991   \n",
       "61   -0.220584 -0.277817 -0.318827  ... -0.480494 -0.514683 -0.553587   \n",
       "\n",
       "            16        17        18        19        20        21        22  \n",
       "2408 -0.597219 -0.627740 -0.664739 -0.697573 -0.717569 -0.801129  1.926648  \n",
       "1728  2.016367 -0.292579 -0.001104  0.175761  1.632382 -0.794440  1.391183  \n",
       "2898 -0.597219 -0.627740 -0.664739 -0.697573 -0.717569 -0.801129 -0.846318  \n",
       "222  -0.278236 -0.617928 -0.602103 -0.110797 -0.717277 -0.799457 -0.843816  \n",
       "61   -0.597219 -0.627740 -0.664739 -0.666610 -0.584112 -0.800293 -0.719263  \n",
       "\n",
       "[5 rows x 23 columns]"
      ]
     },
     "execution_count": 13,
     "metadata": {},
     "output_type": "execute_result"
    }
   ],
   "source": [
    "pd.DataFrame(x).sample(5)"
   ]
  },
  {
   "cell_type": "markdown",
   "metadata": {},
   "source": [
    "### Y Verilerimizi One Hot Encoding Uygulamamız Gerekiyor :  "
   ]
  },
  {
   "cell_type": "markdown",
   "metadata": {},
   "source": [
    "**One Hot Encoding Nedir?**\n",
    "\n",
    "One Hot Encoding, kategorik değişkenlerin ikili (binary) olarak temsil edilmesi anlamına gelmektedir. Bu işlem, ağın model için problemi daha kolay hale getirmesine yardımcı olabilir. \n",
    "\n",
    "\n",
    "- Bu işlem ilk önce kategorik değerlerin tamsayı değerleriyle eşlenmesini gerektirir.\n",
    "- Daha sonra, her bir tamsayı değeri, 1 ile işaretlenmiş tamsayı indeksi dışındaki tüm değerleri   sıfır  olan bir ikili vektör olarak temsil edilir."
   ]
  },
  {
   "cell_type": "code",
   "execution_count": 14,
   "metadata": {},
   "outputs": [
    {
     "data": {
      "text/html": [
       "<div>\n",
       "<style scoped>\n",
       "    .dataframe tbody tr th:only-of-type {\n",
       "        vertical-align: middle;\n",
       "    }\n",
       "\n",
       "    .dataframe tbody tr th {\n",
       "        vertical-align: top;\n",
       "    }\n",
       "\n",
       "    .dataframe thead th {\n",
       "        text-align: right;\n",
       "    }\n",
       "</style>\n",
       "<table border=\"1\" class=\"dataframe\">\n",
       "  <thead>\n",
       "    <tr style=\"text-align: right;\">\n",
       "      <th></th>\n",
       "      <th>durum</th>\n",
       "    </tr>\n",
       "  </thead>\n",
       "  <tbody>\n",
       "    <tr>\n",
       "      <th>1221</th>\n",
       "      <td>2</td>\n",
       "    </tr>\n",
       "    <tr>\n",
       "      <th>379</th>\n",
       "      <td>1</td>\n",
       "    </tr>\n",
       "    <tr>\n",
       "      <th>103</th>\n",
       "      <td>1</td>\n",
       "    </tr>\n",
       "    <tr>\n",
       "      <th>819</th>\n",
       "      <td>2</td>\n",
       "    </tr>\n",
       "    <tr>\n",
       "      <th>1639</th>\n",
       "      <td>2</td>\n",
       "    </tr>\n",
       "  </tbody>\n",
       "</table>\n",
       "</div>"
      ],
      "text/plain": [
       "      durum\n",
       "1221      2\n",
       "379       1\n",
       "103       1\n",
       "819       2\n",
       "1639      2"
      ]
     },
     "execution_count": 14,
     "metadata": {},
     "output_type": "execute_result"
    }
   ],
   "source": [
    "pd.DataFrame(y).sample(5)"
   ]
  },
  {
   "cell_type": "code",
   "execution_count": 15,
   "metadata": {},
   "outputs": [],
   "source": [
    "le = preprocessing.LabelEncoder()\n",
    "y = le.fit_transform(y)"
   ]
  },
  {
   "cell_type": "code",
   "execution_count": 16,
   "metadata": {},
   "outputs": [
    {
     "data": {
      "text/html": [
       "<div>\n",
       "<style scoped>\n",
       "    .dataframe tbody tr th:only-of-type {\n",
       "        vertical-align: middle;\n",
       "    }\n",
       "\n",
       "    .dataframe tbody tr th {\n",
       "        vertical-align: top;\n",
       "    }\n",
       "\n",
       "    .dataframe thead th {\n",
       "        text-align: right;\n",
       "    }\n",
       "</style>\n",
       "<table border=\"1\" class=\"dataframe\">\n",
       "  <thead>\n",
       "    <tr style=\"text-align: right;\">\n",
       "      <th></th>\n",
       "      <th>0</th>\n",
       "    </tr>\n",
       "  </thead>\n",
       "  <tbody>\n",
       "    <tr>\n",
       "      <th>2951</th>\n",
       "      <td>2</td>\n",
       "    </tr>\n",
       "    <tr>\n",
       "      <th>946</th>\n",
       "      <td>1</td>\n",
       "    </tr>\n",
       "    <tr>\n",
       "      <th>160</th>\n",
       "      <td>0</td>\n",
       "    </tr>\n",
       "    <tr>\n",
       "      <th>537</th>\n",
       "      <td>0</td>\n",
       "    </tr>\n",
       "    <tr>\n",
       "      <th>2354</th>\n",
       "      <td>2</td>\n",
       "    </tr>\n",
       "  </tbody>\n",
       "</table>\n",
       "</div>"
      ],
      "text/plain": [
       "      0\n",
       "2951  2\n",
       "946   1\n",
       "160   0\n",
       "537   0\n",
       "2354  2"
      ]
     },
     "execution_count": 16,
     "metadata": {},
     "output_type": "execute_result"
    }
   ],
   "source": [
    "pd.DataFrame(y).sample(5)"
   ]
  },
  {
   "cell_type": "code",
   "execution_count": 17,
   "metadata": {},
   "outputs": [],
   "source": [
    "y = to_categorical(y)"
   ]
  },
  {
   "cell_type": "code",
   "execution_count": 18,
   "metadata": {},
   "outputs": [
    {
     "data": {
      "text/html": [
       "<div>\n",
       "<style scoped>\n",
       "    .dataframe tbody tr th:only-of-type {\n",
       "        vertical-align: middle;\n",
       "    }\n",
       "\n",
       "    .dataframe tbody tr th {\n",
       "        vertical-align: top;\n",
       "    }\n",
       "\n",
       "    .dataframe thead th {\n",
       "        text-align: right;\n",
       "    }\n",
       "</style>\n",
       "<table border=\"1\" class=\"dataframe\">\n",
       "  <thead>\n",
       "    <tr style=\"text-align: right;\">\n",
       "      <th></th>\n",
       "      <th>0</th>\n",
       "      <th>1</th>\n",
       "      <th>2</th>\n",
       "    </tr>\n",
       "  </thead>\n",
       "  <tbody>\n",
       "    <tr>\n",
       "      <th>534</th>\n",
       "      <td>1.0</td>\n",
       "      <td>0.0</td>\n",
       "      <td>0.0</td>\n",
       "    </tr>\n",
       "    <tr>\n",
       "      <th>1209</th>\n",
       "      <td>0.0</td>\n",
       "      <td>1.0</td>\n",
       "      <td>0.0</td>\n",
       "    </tr>\n",
       "    <tr>\n",
       "      <th>759</th>\n",
       "      <td>0.0</td>\n",
       "      <td>1.0</td>\n",
       "      <td>0.0</td>\n",
       "    </tr>\n",
       "    <tr>\n",
       "      <th>1992</th>\n",
       "      <td>0.0</td>\n",
       "      <td>1.0</td>\n",
       "      <td>0.0</td>\n",
       "    </tr>\n",
       "    <tr>\n",
       "      <th>1352</th>\n",
       "      <td>0.0</td>\n",
       "      <td>1.0</td>\n",
       "      <td>0.0</td>\n",
       "    </tr>\n",
       "  </tbody>\n",
       "</table>\n",
       "</div>"
      ],
      "text/plain": [
       "        0    1    2\n",
       "534   1.0  0.0  0.0\n",
       "1209  0.0  1.0  0.0\n",
       "759   0.0  1.0  0.0\n",
       "1992  0.0  1.0  0.0\n",
       "1352  0.0  1.0  0.0"
      ]
     },
     "execution_count": 18,
     "metadata": {},
     "output_type": "execute_result"
    }
   ],
   "source": [
    "pd.DataFrame(y).sample(5)"
   ]
  },
  {
   "cell_type": "markdown",
   "metadata": {},
   "source": [
    "# Train ve Test İşlemleri İçin Ayrımı Gerçekleştirelim : "
   ]
  },
  {
   "cell_type": "code",
   "execution_count": 19,
   "metadata": {},
   "outputs": [],
   "source": [
    "x_train, x_test, y_train, y_test = train_test_split(x, y, test_size = 0.2, random_state = 42)"
   ]
  },
  {
   "cell_type": "code",
   "execution_count": 20,
   "metadata": {},
   "outputs": [
    {
     "name": "stdout",
     "output_type": "stream",
     "text": [
      "x Train : (2399, 23)\n",
      "x Test : (600, 23)\n",
      "y Train : (2399, 3)\n",
      "y Test : (600, 3)\n"
     ]
    }
   ],
   "source": [
    "print('x Train : ' + str(x_train.shape))\n",
    "print('x Test : ' + str(x_test.shape))\n",
    "print('y Train : ' + str(y_train.shape))\n",
    "print('y Test : ' + str(y_test.shape))"
   ]
  },
  {
   "cell_type": "code",
   "execution_count": null,
   "metadata": {},
   "outputs": [],
   "source": []
  }
 ],
 "metadata": {
  "kernelspec": {
   "display_name": "Python 3",
   "language": "python",
   "name": "python3"
  },
  "language_info": {
   "codemirror_mode": {
    "name": "ipython",
    "version": 3
   },
   "file_extension": ".py",
   "mimetype": "text/x-python",
   "name": "python",
   "nbconvert_exporter": "python",
   "pygments_lexer": "ipython3",
   "version": "3.7.6"
  }
 },
 "nbformat": 4,
 "nbformat_minor": 4
}
