{
  "nbformat": 4,
  "nbformat_minor": 0,
  "metadata": {
    "kernelspec": {
      "display_name": "Python 3",
      "language": "python",
      "name": "python3"
    },
    "language_info": {
      "codemirror_mode": {
        "name": "ipython",
        "version": 3
      },
      "file_extension": ".py",
      "mimetype": "text/x-python",
      "name": "python",
      "nbconvert_exporter": "python",
      "pygments_lexer": "ipython3",
      "version": "3.7.6"
    },
    "colab": {
      "name": "Merge.ipynb",
      "provenance": [],
      "collapsed_sections": []
    }
  },
  "cells": [
    {
      "cell_type": "code",
      "metadata": {
        "id": "PPc4Gfaysp90",
        "colab_type": "code",
        "colab": {}
      },
      "source": [
        "import glob"
      ],
      "execution_count": 0,
      "outputs": []
    },
    {
      "cell_type": "code",
      "metadata": {
        "id": "v8DJKg9nsp93",
        "colab_type": "code",
        "colab": {}
      },
      "source": [
        "def map_first_lines(files):\n",
        "        for file in files:\n",
        "            with open(file, 'rt') as fd:\n",
        "                yield fd.readline()\n",
        "                \n",
        "def merge_first_lines(files, tweetFile, durumFile, i):\n",
        "    with open(tweetFile, 'a+') as t:\n",
        "        for line in map_first_lines(files):\n",
        "            t.write(line + \"\\n\")\n",
        "            with open(durumFile, 'a+') as d:\n",
        "                d.write(i + \"\\n\")"
      ],
      "execution_count": 0,
      "outputs": []
    },
    {
      "cell_type": "code",
      "metadata": {
        "id": "WuOEzabUsp97",
        "colab_type": "code",
        "colab": {}
      },
      "source": [
        "for i in range(1, 4):\n",
        "    files = glob.glob(\"3000tweet/\"+str(i)+\"/*.txt\")\n",
        "    tweetFile = '3000tweet/tweet.txt'\n",
        "    durumFile = '3000tweet/durum.txt'\n",
        "    merge_first_lines(files, tweetFile, durumFile, str(i))"
      ],
      "execution_count": 0,
      "outputs": []
    }
  ]
}