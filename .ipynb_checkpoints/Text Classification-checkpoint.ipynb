{
 "cells": [
  {
   "cell_type": "code",
   "execution_count": 14,
   "metadata": {},
   "outputs": [],
   "source": [
    "import glob\n",
    "import pandas as pd\n",
    "import seaborn as sns\n"
   ]
  },
  {
   "cell_type": "code",
   "execution_count": 15,
   "metadata": {},
   "outputs": [
    {
     "data": {
      "text/plain": [
       "'\\ndef map_first_lines(file_list):\\n        for file in file_list:\\n            with open(file, \\'rt\\') as fd:\\n                yield fd.readline()\\n                \\ndef merge_first_lines(file_list, filename):\\n    with open(filename, \\'w\\') as f:\\n        for line in map_first_lines(file_list):\\n            f.write(\"%s\\n\" % line)\\n            \\nfor i in range(1, 4):\\n    files = glob.glob(\"3000tweet/\"+str(i)+\"/*.txt\")\\n    filename=\\'3000tweet/\\'+str(i)+\\'.txt\\'\\n    merge_first_lines(files,filename)\\n'"
      ]
     },
     "execution_count": 15,
     "metadata": {},
     "output_type": "execute_result"
    }
   ],
   "source": [
    "'''\n",
    "def map_first_lines(file_list):\n",
    "        for file in file_list:\n",
    "            with open(file, 'rt') as fd:\n",
    "                yield fd.readline()\n",
    "                \n",
    "def merge_first_lines(file_list, filename):\n",
    "    with open(filename, 'w') as f:\n",
    "        for line in map_first_lines(file_list):\n",
    "            f.write(\"%s\\n\" % line)\n",
    "            \n",
    "for i in range(1, 4):\n",
    "    files = glob.glob(\"3000tweet/\"+str(i)+\"/*.txt\")\n",
    "    filename='3000tweet/'+str(i)+'.txt'\n",
    "    merge_first_lines(files,filename)\n",
    "'''"
   ]
  },
  {
   "cell_type": "code",
   "execution_count": 16,
   "metadata": {},
   "outputs": [],
   "source": [
    "df = pd.read_csv(\"3000tweet/3000tweet.csv\", sep=';',encoding=\"utf8\")"
   ]
  },
  {
   "cell_type": "code",
   "execution_count": 17,
   "metadata": {},
   "outputs": [
    {
     "data": {
      "text/html": [
       "<div>\n",
       "<style scoped>\n",
       "    .dataframe tbody tr th:only-of-type {\n",
       "        vertical-align: middle;\n",
       "    }\n",
       "\n",
       "    .dataframe tbody tr th {\n",
       "        vertical-align: top;\n",
       "    }\n",
       "\n",
       "    .dataframe thead th {\n",
       "        text-align: right;\n",
       "    }\n",
       "</style>\n",
       "<table border=\"1\" class=\"dataframe\">\n",
       "  <thead>\n",
       "    <tr style=\"text-align: right;\">\n",
       "      <th></th>\n",
       "      <th>tweet</th>\n",
       "      <th>class</th>\n",
       "    </tr>\n",
       "  </thead>\n",
       "  <tbody>\n",
       "    <tr>\n",
       "      <th>0</th>\n",
       "      <td>dun Turkcelle tepkilerimizden sonra bugün Turk...</td>\n",
       "      <td>1</td>\n",
       "    </tr>\n",
       "    <tr>\n",
       "      <th>1</th>\n",
       "      <td>girmezmiyim.. Turkcell kartim bile var.. Yarin...</td>\n",
       "      <td>1</td>\n",
       "    </tr>\n",
       "    <tr>\n",
       "      <th>2</th>\n",
       "      <td>tam tünelden gecerken 3g cekiyordu:D türkcell'...</td>\n",
       "      <td>1</td>\n",
       "    </tr>\n",
       "    <tr>\n",
       "      <th>3</th>\n",
       "      <td>turkcell superonline fiber internet veya ADSL ...</td>\n",
       "      <td>1</td>\n",
       "    </tr>\n",
       "    <tr>\n",
       "      <th>4</th>\n",
       "      <td>bence Gnçtrkcll Ark Winterfest 2012'de 1.olur ...</td>\n",
       "      <td>1</td>\n",
       "    </tr>\n",
       "  </tbody>\n",
       "</table>\n",
       "</div>"
      ],
      "text/plain": [
       "                                               tweet  class\n",
       "0  dun Turkcelle tepkilerimizden sonra bugün Turk...      1\n",
       "1  girmezmiyim.. Turkcell kartim bile var.. Yarin...      1\n",
       "2  tam tünelden gecerken 3g cekiyordu:D türkcell'...      1\n",
       "3  turkcell superonline fiber internet veya ADSL ...      1\n",
       "4  bence Gnçtrkcll Ark Winterfest 2012'de 1.olur ...      1"
      ]
     },
     "execution_count": 17,
     "metadata": {},
     "output_type": "execute_result"
    }
   ],
   "source": [
    "df.head()"
   ]
  },
  {
   "cell_type": "code",
   "execution_count": 18,
   "metadata": {},
   "outputs": [],
   "source": [
    "myX = df.iloc[:,0].values \n",
    "myY = df.iloc[:,1].values"
   ]
  },
  {
   "cell_type": "code",
   "execution_count": 19,
   "metadata": {},
   "outputs": [
    {
     "data": {
      "text/plain": [
       "array(['dun Turkcelle tepkilerimizden sonra bugün Turkcell twittera sponsor olmuş. Ne tesadüf değil mi ? :)',\n",
       "       'girmezmiyim.. Turkcell kartim bile var.. Yarindan itibaren onu takicam.. Twittersiz denedim sadece 3 gun yapabildim:)))))',\n",
       "       \"tam tünelden gecerken 3g cekiyordu:D türkcell'in reklamlari vodafone' harekete gecirmis olmali:)\",\n",
       "       ...,\n",
       "       'özturkcell e dönücz diye korkuyorum ama çanakkale holdingiz bişeycik olmaz',\n",
       "       'turkcell se 532 yi ara puk kodunu ogrenme menusunden ogren. Baska yolu yok tatlim',\n",
       "       \"CHIP Galaxy Y ve Chat Türkiye'de!: Samsung'un kompakt cebi Galaxy Y ve QWERTY klavyeli cep Ch Turkcell ava...\"],\n",
       "      dtype=object)"
      ]
     },
     "execution_count": 19,
     "metadata": {},
     "output_type": "execute_result"
    }
   ],
   "source": [
    "myX"
   ]
  },
  {
   "cell_type": "code",
   "execution_count": 20,
   "metadata": {},
   "outputs": [
    {
     "data": {
      "text/plain": [
       "array([1, 1, 1, ..., 3, 3, 3], dtype=int64)"
      ]
     },
     "execution_count": 20,
     "metadata": {},
     "output_type": "execute_result"
    }
   ],
   "source": [
    "myY"
   ]
  },
  {
   "cell_type": "code",
   "execution_count": 21,
   "metadata": {},
   "outputs": [
    {
     "data": {
      "image/png": "[encoded data removed]",
      "text/plain": [
       "<Figure size 432x288 with 1 Axes>"
      ]
     },
     "metadata": {
      "needs_background": "light"
     },
     "output_type": "display_data"
    }
   ],
   "source": [
    "ax = sns.countplot(x=\"class\", data=df, palette=\"Set3\")"
   ]
  },
  {
   "cell_type": "code",
   "execution_count": 22,
   "metadata": {},
   "outputs": [
    {
     "data": {
      "text/plain": [
       "(3000, 2)"
      ]
     },
     "execution_count": 22,
     "metadata": {},
     "output_type": "execute_result"
    }
   ],
   "source": [
    "df.shape"
   ]
  },
  {
   "cell_type": "code",
   "execution_count": 26,
   "metadata": {},
   "outputs": [
    {
     "name": "stdout",
     "output_type": "stream",
     "text": [
      "Requirement already satisfied: gensim in d:\\programdata\\anaconda3\\lib\\site-packages (3.8.3)\n",
      "Requirement already satisfied: smart-open>=1.8.1 in d:\\programdata\\anaconda3\\lib\\site-packages (from gensim) (2.0.0)\n",
      "Requirement already satisfied: scipy>=0.18.1 in d:\\programdata\\anaconda3\\lib\\site-packages (from gensim) (1.4.1)\n",
      "Requirement already satisfied: Cython==0.29.14 in d:\\programdata\\anaconda3\\lib\\site-packages (from gensim) (0.29.14)\n",
      "Requirement already satisfied: six>=1.5.0 in d:\\programdata\\anaconda3\\lib\\site-packages (from gensim) (1.14.0)\n",
      "Requirement already satisfied: numpy>=1.11.3 in d:\\programdata\\anaconda3\\lib\\site-packages (from gensim) (1.18.1)\n",
      "Requirement already satisfied: requests in d:\\programdata\\anaconda3\\lib\\site-packages (from smart-open>=1.8.1->gensim) (2.22.0)\n",
      "Requirement already satisfied: boto3 in d:\\programdata\\anaconda3\\lib\\site-packages (from smart-open>=1.8.1->gensim) (1.13.3)\n",
      "Requirement already satisfied: boto in d:\\programdata\\anaconda3\\lib\\site-packages (from smart-open>=1.8.1->gensim) (2.49.0)\n",
      "Requirement already satisfied: urllib3!=1.25.0,!=1.25.1,<1.26,>=1.21.1 in d:\\programdata\\anaconda3\\lib\\site-packages (from requests->smart-open>=1.8.1->gensim) (1.25.8)\n",
      "Requirement already satisfied: chardet<3.1.0,>=3.0.2 in d:\\programdata\\anaconda3\\lib\\site-packages (from requests->smart-open>=1.8.1->gensim) (3.0.4)\n",
      "Requirement already satisfied: certifi>=2017.4.17 in d:\\programdata\\anaconda3\\lib\\site-packages (from requests->smart-open>=1.8.1->gensim) (2019.11.28)\n",
      "Requirement already satisfied: idna<2.9,>=2.5 in d:\\programdata\\anaconda3\\lib\\site-packages (from requests->smart-open>=1.8.1->gensim) (2.8)\n",
      "Requirement already satisfied: botocore<1.17.0,>=1.16.3 in d:\\programdata\\anaconda3\\lib\\site-packages (from boto3->smart-open>=1.8.1->gensim) (1.16.3)\n",
      "Requirement already satisfied: s3transfer<0.4.0,>=0.3.0 in d:\\programdata\\anaconda3\\lib\\site-packages (from boto3->smart-open>=1.8.1->gensim) (0.3.3)\n",
      "Requirement already satisfied: jmespath<1.0.0,>=0.7.1 in d:\\programdata\\anaconda3\\lib\\site-packages (from boto3->smart-open>=1.8.1->gensim) (0.9.5)\n",
      "Requirement already satisfied: python-dateutil<3.0.0,>=2.1 in d:\\programdata\\anaconda3\\lib\\site-packages (from botocore<1.17.0,>=1.16.3->boto3->smart-open>=1.8.1->gensim) (2.8.1)\n",
      "Requirement already satisfied: docutils<0.16,>=0.10 in d:\\programdata\\anaconda3\\lib\\site-packages (from botocore<1.17.0,>=1.16.3->boto3->smart-open>=1.8.1->gensim) (0.15.2)\n",
      "Note: you may need to restart the kernel to use updated packages.\n"
     ]
    }
   ],
   "source": [
    "pip install gensim"
   ]
  },
  {
   "cell_type": "code",
   "execution_count": 29,
   "metadata": {},
   "outputs": [],
   "source": [
    "from gensim.utils import simple_preprocess"
   ]
  },
  {
   "cell_type": "code",
   "execution_count": 31,
   "metadata": {},
   "outputs": [],
   "source": [
    "def read_questions(row,column_name):\n",
    "    return simple_preprocess(str(row[column_name]).encode('utf-8'))\n",
    "    \n",
    "documents = []\n",
    "for index, row in df.iterrows():\n",
    "    documents.append(read_questions(row,\"tweet\"))"
   ]
  },
  {
   "cell_type": "code",
   "execution_count": 32,
   "metadata": {},
   "outputs": [
    {
     "name": "stdout",
     "output_type": "stream",
     "text": [
      "List of lists. Let's confirm:  <class 'list'>  of  <class 'list'>\n"
     ]
    }
   ],
   "source": [
    "print(\"List of lists. Let's confirm: \", type(documents), \" of \", type(documents[0]))"
   ]
  },
  {
   "cell_type": "code",
   "execution_count": 35,
   "metadata": {},
   "outputs": [],
   "source": [
    "from gensim.models import Word2Vec"
   ]
  },
  {
   "cell_type": "code",
   "execution_count": 36,
   "metadata": {},
   "outputs": [],
   "source": [
    "model = Word2Vec(size=150, window=10, min_count=2, sg=1, workers=10)\n",
    "model.build_vocab(documents)  # prepare the model vocabulary"
   ]
  },
  {
   "cell_type": "code",
   "execution_count": 37,
   "metadata": {
    "scrolled": true
   },
   "outputs": [
    {
     "name": "stderr",
     "output_type": "stream",
     "text": [
      "D:\\ProgramData\\Anaconda3\\lib\\site-packages\\ipykernel_launcher.py:1: DeprecationWarning: Call to deprecated `iter` (Attribute will be removed in 4.0.0, use self.epochs instead).\n",
      "  \"\"\"Entry point for launching an IPython kernel.\n"
     ]
    },
    {
     "data": {
      "text/plain": [
       "(104117, 168875)"
      ]
     },
     "execution_count": 37,
     "metadata": {},
     "output_type": "execute_result"
    }
   ],
   "source": [
    "model.train(sentences=documents, total_examples=len(documents), epochs=model.iter)"
   ]
  },
  {
   "cell_type": "code",
   "execution_count": 38,
   "metadata": {},
   "outputs": [
    {
     "name": "stdout",
     "output_type": "stream",
     "text": [
      "dun\n",
      "turkcelle\n",
      "sonra\n",
      "bugün\n",
      "turkcell\n",
      "sponsor\n",
      "olmuş\n",
      "ne\n",
      "tesadüf\n",
      "değil\n"
     ]
    }
   ],
   "source": [
    "word_vectors = model.wv\n",
    "count = 0\n",
    "for word in word_vectors.vocab:\n",
    "    if count<10:\n",
    "        print(word)\n",
    "        count += 1\n",
    "    else:\n",
    "        break"
   ]
  },
  {
   "cell_type": "code",
   "execution_count": 39,
   "metadata": {},
   "outputs": [
    {
     "data": {
      "text/plain": [
       "3177"
      ]
     },
     "execution_count": 39,
     "metadata": {},
     "output_type": "execute_result"
    }
   ],
   "source": [
    "len(word_vectors.vocab)"
   ]
  },
  {
   "cell_type": "code",
   "execution_count": 42,
   "metadata": {},
   "outputs": [
    {
     "data": {
      "text/plain": [
       "150"
      ]
     },
     "execution_count": 42,
     "metadata": {},
     "output_type": "execute_result"
    }
   ],
   "source": [
    "vector = model.wv[\"sonra\"]  # numpy vector of a word\n",
    "len(vector)"
   ]
  },
  {
   "cell_type": "code",
   "execution_count": 43,
   "metadata": {},
   "outputs": [
    {
     "data": {
      "text/plain": [
       "array([-0.01538942, -0.10052856, -0.13728875,  0.18383981, -0.11625946,\n",
       "       -0.2927785 , -0.11790871,  0.11094353,  0.20622441, -0.17944942,\n",
       "        0.05523643, -0.00702607, -0.07979439,  0.05347525, -0.10957214,\n",
       "        0.01596057, -0.0352939 ,  0.1961079 , -0.13706733,  0.01833311,\n",
       "        0.13826123, -0.11852941, -0.0126484 , -0.04363059, -0.08039781,\n",
       "        0.13581844, -0.24923676, -0.22185977, -0.05248379,  0.06035711,\n",
       "        0.00500772,  0.01226377, -0.01677826, -0.07168413, -0.0900274 ,\n",
       "       -0.13645665,  0.0060716 , -0.11606939,  0.14354855, -0.1565405 ,\n",
       "       -0.09682608, -0.14777374,  0.2351973 , -0.0579153 , -0.06282982,\n",
       "       -0.04039225, -0.09283817,  0.23215155, -0.20791085,  0.01853965,\n",
       "        0.23036064, -0.16438511, -0.05196888,  0.00064012,  0.08523758,\n",
       "        0.0214992 ,  0.14608227,  0.01875507,  0.03415902,  0.20252131,\n",
       "        0.10095387, -0.14571577, -0.21675837,  0.02365369,  0.2739356 ,\n",
       "        0.09300179,  0.0570676 , -0.09218375,  0.1737446 ,  0.02028538,\n",
       "        0.02736198, -0.00410373,  0.13110821,  0.0810068 , -0.12359264,\n",
       "       -0.02586466,  0.11637748, -0.01392379, -0.03931607,  0.13590968,\n",
       "       -0.05822101,  0.06275932, -0.17387716, -0.04465054, -0.1417991 ,\n",
       "        0.08984603, -0.05705122, -0.29118824, -0.01090455,  0.03684216,\n",
       "        0.17681843,  0.14243242,  0.04799057, -0.06684596, -0.07448917,\n",
       "       -0.2300532 ,  0.01044921, -0.0103726 ,  0.2130889 ,  0.2995308 ,\n",
       "       -0.10953481,  0.2145605 ,  0.05351754, -0.11654449,  0.1630044 ,\n",
       "       -0.2686133 , -0.15044738, -0.14620633,  0.12517276, -0.00160038,\n",
       "       -0.20346037,  0.00040568,  0.03467878,  0.0210485 ,  0.14848062,\n",
       "       -0.09562107,  0.06871211,  0.06705913, -0.04390836, -0.00527223,\n",
       "        0.00931778, -0.02674993,  0.05826794,  0.21412194, -0.16400534,\n",
       "       -0.1280337 ,  0.2173992 , -0.05877189, -0.16413324, -0.33387312,\n",
       "       -0.06935973,  0.04124305,  0.11585168,  0.01477109,  0.04002879,\n",
       "        0.2789058 , -0.01602448,  0.09335822, -0.06507945, -0.17618476,\n",
       "       -0.18804811, -0.04182348, -0.04454882,  0.08995628, -0.17190532,\n",
       "       -0.295994  , -0.14622155, -0.0473082 ,  0.12624279,  0.1945202 ],\n",
       "      dtype=float32)"
      ]
     },
     "execution_count": 43,
     "metadata": {},
     "output_type": "execute_result"
    }
   ],
   "source": [
    "vector"
   ]
  },
  {
   "cell_type": "code",
   "execution_count": 44,
   "metadata": {},
   "outputs": [
    {
     "data": {
      "text/plain": [
       "{'dun': <gensim.models.keyedvectors.Vocab at 0x1a4ccdbd788>,\n",
       " 'turkcelle': <gensim.models.keyedvectors.Vocab at 0x1a4ccdbd848>,\n",
       " 'sonra': <gensim.models.keyedvectors.Vocab at 0x1a4ccdbd988>,\n",
       " 'bugün': <gensim.models.keyedvectors.Vocab at 0x1a4ccdbd9c8>,\n",
       " 'turkcell': <gensim.models.keyedvectors.Vocab at 0x1a4ccdbda48>,\n",
       " 'sponsor': <gensim.models.keyedvectors.Vocab at 0x1a4ccdbdac8>,\n",
       " 'olmuş': <gensim.models.keyedvectors.Vocab at 0x1a4ccdbdb08>,\n",
       " 'ne': <gensim.models.keyedvectors.Vocab at 0x1a4ccdbdb48>,\n",
       " 'tesadüf': <gensim.models.keyedvectors.Vocab at 0x1a4ccdbda08>,\n",
       " 'değil': <gensim.models.keyedvectors.Vocab at 0x1a4ccdbda88>,\n",
       " 'mi': <gensim.models.keyedvectors.Vocab at 0x1a4ccdbdb88>,\n",
       " 'bile': <gensim.models.keyedvectors.Vocab at 0x1a4ccdbdbc8>,\n",
       " 'var': <gensim.models.keyedvectors.Vocab at 0x1a4ccdbdc08>,\n",
       " 'itibaren': <gensim.models.keyedvectors.Vocab at 0x1a4ccdbdc48>,\n",
       " 'onu': <gensim.models.keyedvectors.Vocab at 0x1a4ccdbdc88>,\n",
       " 'denedim': <gensim.models.keyedvectors.Vocab at 0x1a4ccdbdcc8>,\n",
       " 'sadece': <gensim.models.keyedvectors.Vocab at 0x1a4ccdbdd08>,\n",
       " 'gun': <gensim.models.keyedvectors.Vocab at 0x1a4ccdbdd48>,\n",
       " 'tam': <gensim.models.keyedvectors.Vocab at 0x1a4ccdbdd88>,\n",
       " 'türkcell': <gensim.models.keyedvectors.Vocab at 0x1a4ccdbddc8>,\n",
       " 'in': <gensim.models.keyedvectors.Vocab at 0x1a4ccdbde08>,\n",
       " 'reklamlari': <gensim.models.keyedvectors.Vocab at 0x1a4ccdbde48>,\n",
       " 'vodafone': <gensim.models.keyedvectors.Vocab at 0x1a4ccdbde88>,\n",
       " 'olmali': <gensim.models.keyedvectors.Vocab at 0x1a4ccdbdec8>,\n",
       " 'superonline': <gensim.models.keyedvectors.Vocab at 0x1a4ccdbdf08>,\n",
       " 'fiber': <gensim.models.keyedvectors.Vocab at 0x1a4ccdbdf48>,\n",
       " 'internet': <gensim.models.keyedvectors.Vocab at 0x1a4ccdbdf88>,\n",
       " 'veya': <gensim.models.keyedvectors.Vocab at 0x1a4ccdbdfc8>,\n",
       " 'adsl': <gensim.models.keyedvectors.Vocab at 0x1a4ccdc1048>,\n",
       " 've': <gensim.models.keyedvectors.Vocab at 0x1a4ccdc1088>,\n",
       " 'sabit': <gensim.models.keyedvectors.Vocab at 0x1a4ccdc10c8>,\n",
       " 'telefon': <gensim.models.keyedvectors.Vocab at 0x1a4ccdc1108>,\n",
       " 'hizmetleri': <gensim.models.keyedvectors.Vocab at 0x1a4ccdc1148>,\n",
       " 'bence': <gensim.models.keyedvectors.Vocab at 0x1a4ccdc1188>,\n",
       " 'gnçtrkcll': <gensim.models.keyedvectors.Vocab at 0x1a4ccdc11c8>,\n",
       " 'de': <gensim.models.keyedvectors.Vocab at 0x1a4ccdc1208>,\n",
       " 'olur': <gensim.models.keyedvectors.Vocab at 0x1a4ccdc1248>,\n",
       " 'da': <gensim.models.keyedvectors.Vocab at 0x1a4ccdc1288>,\n",
       " 'gelir': <gensim.models.keyedvectors.Vocab at 0x1a4ccdc12c8>,\n",
       " 'sana': <gensim.models.keyedvectors.Vocab at 0x1a4ccdc1308>,\n",
       " 'kıyak': <gensim.models.keyedvectors.Vocab at 0x1a4ccdc1348>,\n",
       " 'geçiyor': <gensim.models.keyedvectors.Vocab at 0x1a4ccdc1388>,\n",
       " 'bağlan': <gensim.models.keyedvectors.Vocab at 0x1a4ccdc13c8>,\n",
       " 'hayata': <gensim.models.keyedvectors.Vocab at 0x1a4ccdc1408>,\n",
       " 'diyorum': <gensim.models.keyedvectors.Vocab at 0x1a4ccdc1448>,\n",
       " 'kimse': <gensim.models.keyedvectors.Vocab at 0x1a4ccdc1488>,\n",
       " 'beni': <gensim.models.keyedvectors.Vocab at 0x1a4ccdc14c8>,\n",
       " 'bana': <gensim.models.keyedvectors.Vocab at 0x1a4ccdc1508>,\n",
       " 'mesaj': <gensim.models.keyedvectors.Vocab at 0x1a4ccdc1548>,\n",
       " 'bu': <gensim.models.keyedvectors.Vocab at 0x1a4ccdc1588>,\n",
       " 'pusula': <gensim.models.keyedvectors.Vocab at 0x1a4ccdc15c8>,\n",
       " 'uygulaması': <gensim.models.keyedvectors.Vocab at 0x1a4ccdc1608>,\n",
       " 'iphone': <gensim.models.keyedvectors.Vocab at 0x1a4ccdc1648>,\n",
       " 'kullanıcıları': <gensim.models.keyedvectors.Vocab at 0x1a4ccdc1688>,\n",
       " 'için': <gensim.models.keyedvectors.Vocab at 0x1a4ccdc16c8>,\n",
       " 'büyük': <gensim.models.keyedvectors.Vocab at 0x1a4ccdc1708>,\n",
       " 'yerden': <gensim.models.keyedvectors.Vocab at 0x1a4ccdc1748>,\n",
       " 'kaç': <gensim.models.keyedvectors.Vocab at 0x1a4ccdc1788>,\n",
       " 'metre': <gensim.models.keyedvectors.Vocab at 0x1a4ccdc17c8>,\n",
       " 'söylüyor': <gensim.models.keyedvectors.Vocab at 0x1a4ccdc1808>,\n",
       " 'zaman': <gensim.models.keyedvectors.Vocab at 0x1a4ccdc1848>,\n",
       " 'sorun': <gensim.models.keyedvectors.Vocab at 0x1a4ccdc1888>,\n",
       " 'yok': <gensim.models.keyedvectors.Vocab at 0x1a4ccdc18c8>,\n",
       " 'bende': <gensim.models.keyedvectors.Vocab at 0x1a4ccdc1908>,\n",
       " 'iyi': <gensim.models.keyedvectors.Vocab at 0x1a4ccdc1948>,\n",
       " 'bir': <gensim.models.keyedvectors.Vocab at 0x1a4ccdc1988>,\n",
       " 'tarife': <gensim.models.keyedvectors.Vocab at 0x1a4ccdc19c8>,\n",
       " 'arıyorum': <gensim.models.keyedvectors.Vocab at 0x1a4ccdc1a08>,\n",
       " 'ama': <gensim.models.keyedvectors.Vocab at 0x1a4ccdc1a48>,\n",
       " 'yapsam': <gensim.models.keyedvectors.Vocab at 0x1a4ccdc1a88>,\n",
       " 'karar': <gensim.models.keyedvectors.Vocab at 0x1a4ccdc1ac8>,\n",
       " 'veremedim': <gensim.models.keyedvectors.Vocab at 0x1a4ccdc1b08>,\n",
       " 'fikir': <gensim.models.keyedvectors.Vocab at 0x1a4ccdc1b48>,\n",
       " 'versene': <gensim.models.keyedvectors.Vocab at 0x1a4ccdc1b88>,\n",
       " 'samsung': <gensim.models.keyedvectors.Vocab at 0x1a4ccdc1bc8>,\n",
       " 'den': <gensim.models.keyedvectors.Vocab at 0x1a4ccdc1c08>,\n",
       " 'kampanya': <gensim.models.keyedvectors.Vocab at 0x1a4ccdc1c48>,\n",
       " 'her': <gensim.models.keyedvectors.Vocab at 0x1a4ccdc1c88>,\n",
       " 'an': <gensim.models.keyedvectors.Vocab at 0x1a4ccdc1cc8>,\n",
       " 'qwerty': <gensim.models.keyedvectors.Vocab at 0x1a4ccdc1d08>,\n",
       " 'klavyeli': <gensim.models.keyedvectors.Vocab at 0x1a4ccdc1d48>,\n",
       " 'novasyon': <gensim.models.keyedvectors.Vocab at 0x1a4ccdc1d88>,\n",
       " 'ödülü': <gensim.models.keyedvectors.Vocab at 0x1a4ccdc1dc8>,\n",
       " 'pazar': <gensim.models.keyedvectors.Vocab at 0x1a4ccdc1e08>,\n",
       " 'bedava': <gensim.models.keyedvectors.Vocab at 0x1a4ccdc1e48>,\n",
       " 'sagol': <gensim.models.keyedvectors.Vocab at 0x1a4ccdc1e88>,\n",
       " 'avea': <gensim.models.keyedvectors.Vocab at 0x1a4ccdc1ec8>,\n",
       " 'ödül': <gensim.models.keyedvectors.Vocab at 0x1a4ccdc1f08>,\n",
       " 'teknoloji': <gensim.models.keyedvectors.Vocab at 0x1a4ccdc1f48>,\n",
       " 'ye': <gensim.models.keyedvectors.Vocab at 0x1a4ccdc1f88>,\n",
       " 'hadi': <gensim.models.keyedvectors.Vocab at 0x1a4ccdc1fc8>,\n",
       " 'yine': <gensim.models.keyedvectors.Vocab at 0x1a4ccdc4048>,\n",
       " 'hizmeti': <gensim.models.keyedvectors.Vocab at 0x1a4ccdc4088>,\n",
       " 'varsa': <gensim.models.keyedvectors.Vocab at 0x1a4ccdc40c8>,\n",
       " 'tavsiye': <gensim.models.keyedvectors.Vocab at 0x1a4ccdc4108>,\n",
       " 'ederim': <gensim.models.keyedvectors.Vocab at 0x1a4ccdc4148>,\n",
       " 'cok': <gensim.models.keyedvectors.Vocab at 0x1a4ccdc4188>,\n",
       " 'hizli': <gensim.models.keyedvectors.Vocab at 0x1a4ccdc41c8>,\n",
       " 'arada': <gensim.models.keyedvectors.Vocab at 0x1a4ccdc4208>,\n",
       " 'kesinlikle': <gensim.models.keyedvectors.Vocab at 0x1a4ccdc4248>,\n",
       " 'süperonline': <gensim.models.keyedvectors.Vocab at 0x1a4ccdc4288>,\n",
       " 'hatta': <gensim.models.keyedvectors.Vocab at 0x1a4ccdc42c8>,\n",
       " 'öneririm': <gensim.models.keyedvectors.Vocab at 0x1a4ccdc4308>,\n",
       " 'gayet': <gensim.models.keyedvectors.Vocab at 0x1a4ccdc4348>,\n",
       " 'güzel': <gensim.models.keyedvectors.Vocab at 0x1a4ccdc4388>,\n",
       " 'hayat': <gensim.models.keyedvectors.Vocab at 0x1a4ccdc43c8>,\n",
       " 'paylaşınca': <gensim.models.keyedvectors.Vocab at 0x1a4ccdc4408>,\n",
       " 'la': <gensim.models.keyedvectors.Vocab at 0x1a4ccdc4448>,\n",
       " 'laaa': <gensim.models.keyedvectors.Vocab at 0x1a4ccdc4488>,\n",
       " 'laa': <gensim.models.keyedvectors.Vocab at 0x1a4ccdc44c8>,\n",
       " 'özturkcell': <gensim.models.keyedvectors.Vocab at 0x1a4ccdc4508>,\n",
       " 'seninle': <gensim.models.keyedvectors.Vocab at 0x1a4ccdc4548>,\n",
       " 'doğan': <gensim.models.keyedvectors.Vocab at 0x1a4ccdc4588>,\n",
       " 'spor': <gensim.models.keyedvectors.Vocab at 0x1a4ccdc45c8>,\n",
       " 'bi': <gensim.models.keyedvectors.Vocab at 0x1a4ccdc4608>,\n",
       " 'coca': <gensim.models.keyedvectors.Vocab at 0x1a4ccdc4648>,\n",
       " 'cola': <gensim.models.keyedvectors.Vocab at 0x1a4ccdc4688>,\n",
       " 'reklamları': <gensim.models.keyedvectors.Vocab at 0x1a4ccdc46c8>,\n",
       " 'lan': <gensim.models.keyedvectors.Vocab at 0x1a4ccdbefc8>,\n",
       " 'teşekkür': <gensim.models.keyedvectors.Vocab at 0x1a4ccdbef08>,\n",
       " 'selocan': <gensim.models.keyedvectors.Vocab at 0x1a4ccdbed08>,\n",
       " 'akşam': <gensim.models.keyedvectors.Vocab at 0x1a4ccdbeec8>,\n",
       " 'film': <gensim.models.keyedvectors.Vocab at 0x1a4ccdbed48>,\n",
       " 'gecesi': <gensim.models.keyedvectors.Vocab at 0x1a4ccab8088>,\n",
       " 'yani': <gensim.models.keyedvectors.Vocab at 0x1a4ccab8f88>,\n",
       " 'gnç': <gensim.models.keyedvectors.Vocab at 0x1a4ccabe0c8>,\n",
       " 'şifresi': <gensim.models.keyedvectors.Vocab at 0x1a4ccab6ec8>,\n",
       " 'paylaşım': <gensim.models.keyedvectors.Vocab at 0x1a4ccab90c8>,\n",
       " 'sinemaya': <gensim.models.keyedvectors.Vocab at 0x1a4ccab9288>,\n",
       " 'evet': <gensim.models.keyedvectors.Vocab at 0x1a4ccdb50c8>,\n",
       " 'ile': <gensim.models.keyedvectors.Vocab at 0x1a4ccab4c48>,\n",
       " 'sıkıntı': <gensim.models.keyedvectors.Vocab at 0x1a4ccab4d88>,\n",
       " 'siz': <gensim.models.keyedvectors.Vocab at 0x1a4ccab4c88>,\n",
       " 'herhangi': <gensim.models.keyedvectors.Vocab at 0x1a4ccdbc208>,\n",
       " 'çözüm': <gensim.models.keyedvectors.Vocab at 0x1a4ccdbc0c8>,\n",
       " 'varmı': <gensim.models.keyedvectors.Vocab at 0x1a4ccdbc108>,\n",
       " 'manga': <gensim.models.keyedvectors.Vocab at 0x1a4ccdbc088>,\n",
       " 'konseri': <gensim.models.keyedvectors.Vocab at 0x1a4ccdb9fc8>,\n",
       " 'saat': <gensim.models.keyedvectors.Vocab at 0x1a4ccdb9d48>,\n",
       " 'te': <gensim.models.keyedvectors.Vocab at 0x1a4ccdb9d08>,\n",
       " 'canlı': <gensim.models.keyedvectors.Vocab at 0x1a4ccdb9f48>,\n",
       " 'yayınla': <gensim.models.keyedvectors.Vocab at 0x1a4ccdb9e48>,\n",
       " 'müziği': <gensim.models.keyedvectors.Vocab at 0x1a4ccdb9f08>,\n",
       " 'çakma': <gensim.models.keyedvectors.Vocab at 0x1a4ccdb98c8>,\n",
       " 'phone': <gensim.models.keyedvectors.Vocab at 0x1a4ccdb9f88>,\n",
       " 'üm': <gensim.models.keyedvectors.Vocab at 0x1a4ccdb9c88>,\n",
       " 'gb': <gensim.models.keyedvectors.Vocab at 0x1a4ccdb9e88>,\n",
       " 'tel': <gensim.models.keyedvectors.Vocab at 0x1a4ccdb9b88>,\n",
       " 'nterneti': <gensim.models.keyedvectors.Vocab at 0x1a4ccdb9a88>,\n",
       " 'sabah': <gensim.models.keyedvectors.Vocab at 0x1a4ccdb9dc8>}"
      ]
     },
     "execution_count": 44,
     "metadata": {},
     "output_type": "execute_result"
    }
   ],
   "source": [
    "wanted_words = []\n",
    "count = 0\n",
    "for word in word_vectors.vocab:\n",
    "    if count<150:\n",
    "        wanted_words.append(word)\n",
    "        count += 1\n",
    "    else:\n",
    "        break\n",
    "wanted_vocab = dict((k, word_vectors.vocab[k]) for k in wanted_words if k in word_vectors.vocab)\n",
    "wanted_vocab"
   ]
  },
  {
   "cell_type": "code",
   "execution_count": 46,
   "metadata": {},
   "outputs": [],
   "source": [
    "from sklearn.manifold import TSNE"
   ]
  },
  {
   "cell_type": "code",
   "execution_count": 47,
   "metadata": {},
   "outputs": [
    {
     "name": "stderr",
     "output_type": "stream",
     "text": [
      "D:\\ProgramData\\Anaconda3\\lib\\site-packages\\ipykernel_launcher.py:1: DeprecationWarning: Call to deprecated `__getitem__` (Method will be removed in 4.0.0, use self.wv.__getitem__() instead).\n",
      "  \"\"\"Entry point for launching an IPython kernel.\n"
     ]
    }
   ],
   "source": [
    "X = model[wanted_vocab] # X is an array of word vectors, each vector containing 150 tokens\n",
    "tsne_model = TSNE(perplexity=40, n_components=2, init=\"pca\", n_iter=5000, random_state=23)\n",
    "Y = tsne_model.fit_transform(X)"
   ]
  },
  {
   "cell_type": "code",
   "execution_count": 49,
   "metadata": {},
   "outputs": [],
   "source": [
    "from matplotlib import pyplot as plt"
   ]
  },
  {
   "cell_type": "code",
   "execution_count": 50,
   "metadata": {},
   "outputs": [
    {
     "data": {
      "image/png": "[encoded data removed]",
      "text/plain": [
       "<Figure size 1440x720 with 1 Axes>"
      ]
     },
     "metadata": {
      "needs_background": "light"
     },
     "output_type": "display_data"
    }
   ],
   "source": [
    "fig, ax = plt.subplots(figsize=(20,10))\n",
    "ax.scatter(Y[:, 0], Y[:, 1])\n",
    "words = list(wanted_vocab)\n",
    "for i, word in enumerate(words):\n",
    "    plt.annotate(word, xy=(Y[i, 0], Y[i, 1]))\n",
    "ax.set_yticklabels([]) #Hide ticks\n",
    "ax.set_xticklabels([]) #Hide ticks\n",
    "_ = plt.show()"
   ]
  },
  {
   "cell_type": "code",
   "execution_count": 68,
   "metadata": {},
   "outputs": [
    {
     "data": {
      "text/plain": [
       "[('la', 0.28463587164878845),\n",
       " ('hayat', 0.2673342823982239),\n",
       " ('paylaşınca', 0.26349395513534546),\n",
       " ('güzel', 0.25942015647888184),\n",
       " ('laaa', 0.1559319645166397)]"
      ]
     },
     "execution_count": 68,
     "metadata": {},
     "output_type": "execute_result"
    }
   ],
   "source": [
    "w1 = [\"hayata\"]\n",
    "w2 = [\"bağlan\"]\n",
    "model.wv.most_similar (positive=w1,negative=w2,topn=5)"
   ]
  },
  {
   "cell_type": "code",
   "execution_count": 72,
   "metadata": {},
   "outputs": [
    {
     "data": {
      "text/plain": [
       "'kaç'"
      ]
     },
     "execution_count": 72,
     "metadata": {},
     "output_type": "execute_result"
    }
   ],
   "source": [
    "model.wv.doesnt_match([\"hizli\",\"herhangi\",\"kaç\"])\n"
   ]
  },
  {
   "cell_type": "code",
   "execution_count": null,
   "metadata": {},
   "outputs": [],
   "source": []
  }
 ],
 "metadata": {
  "kernelspec": {
   "display_name": "Python 3",
   "language": "python",
   "name": "python3"
  }
 },
 "nbformat": 4,
 "nbformat_minor": 4
}
