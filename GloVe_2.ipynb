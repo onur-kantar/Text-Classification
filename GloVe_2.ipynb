{
 "cells": [
  {
   "cell_type": "code",
   "execution_count": 161,
   "metadata": {},
   "outputs": [],
   "source": [
    "import json\n",
    "import tensorflow as tf\n",
    "import csv\n",
    "import random\n",
    "import numpy as np\n",
    "import pandas as pd\n",
    "\n",
    "from tensorflow.keras.preprocessing.text import Tokenizer\n",
    "from tensorflow.keras.preprocessing.sequence import pad_sequences\n",
    "from tensorflow.keras.utils import to_categorical\n",
    "from tensorflow.keras import regularizers\n"
   ]
  },
  {
   "cell_type": "code",
   "execution_count": 162,
   "metadata": {},
   "outputs": [],
   "source": [
    "embedding_dim = 100\n",
    "max_length = 16\n",
    "trunc_type='post'\n",
    "padding_type='post'\n",
    "oov_tok = \"<OOV>\"\n",
    "training_size=3000\n",
    "test_portion=.1\n",
    "\n",
    "corpus = []"
   ]
  },
  {
   "cell_type": "code",
   "execution_count": 163,
   "metadata": {},
   "outputs": [
    {
     "data": {
      "text/html": [
       "<div>\n",
       "<style scoped>\n",
       "    .dataframe tbody tr th:only-of-type {\n",
       "        vertical-align: middle;\n",
       "    }\n",
       "\n",
       "    .dataframe tbody tr th {\n",
       "        vertical-align: top;\n",
       "    }\n",
       "\n",
       "    .dataframe thead th {\n",
       "        text-align: right;\n",
       "    }\n",
       "</style>\n",
       "<table border=\"1\" class=\"dataframe\">\n",
       "  <thead>\n",
       "    <tr style=\"text-align: right;\">\n",
       "      <th></th>\n",
       "      <th>tweet</th>\n",
       "      <th>durum</th>\n",
       "    </tr>\n",
       "  </thead>\n",
       "  <tbody>\n",
       "    <tr>\n",
       "      <th>0</th>\n",
       "      <td>dun Turkcelle tepkilerimizden sonra bugün Turk...</td>\n",
       "      <td>1</td>\n",
       "    </tr>\n",
       "    <tr>\n",
       "      <th>1</th>\n",
       "      <td>girmezmiyim.. Turkcell kartim bile var.. Yarin...</td>\n",
       "      <td>1</td>\n",
       "    </tr>\n",
       "    <tr>\n",
       "      <th>2</th>\n",
       "      <td>tam tünelden gecerken 3g cekiyordu :D türkcell...</td>\n",
       "      <td>1</td>\n",
       "    </tr>\n",
       "    <tr>\n",
       "      <th>3</th>\n",
       "      <td>turkcell superonline fiber internet veya ADSL ...</td>\n",
       "      <td>1</td>\n",
       "    </tr>\n",
       "    <tr>\n",
       "      <th>4</th>\n",
       "      <td>bence Gnçtrkcll Ark Winterfest 2012'de 1.olur ...</td>\n",
       "      <td>1</td>\n",
       "    </tr>\n",
       "  </tbody>\n",
       "</table>\n",
       "</div>"
      ],
      "text/plain": [
       "                                               tweet  durum\n",
       "0  dun Turkcelle tepkilerimizden sonra bugün Turk...      1\n",
       "1  girmezmiyim.. Turkcell kartim bile var.. Yarin...      1\n",
       "2  tam tünelden gecerken 3g cekiyordu :D türkcell...      1\n",
       "3  turkcell superonline fiber internet veya ADSL ...      1\n",
       "4  bence Gnçtrkcll Ark Winterfest 2012'de 1.olur ...      1"
      ]
     },
     "execution_count": 163,
     "metadata": {},
     "output_type": "execute_result"
    }
   ],
   "source": [
    "df = pd.read_csv('3000tweet.csv',sep=';',encoding=\"utf8\" ,error_bad_lines=False)\n",
    "df.head()"
   ]
  },
  {
   "cell_type": "code",
   "execution_count": 164,
   "metadata": {},
   "outputs": [],
   "source": [
    "num_sentences = 0\n",
    "with open(\"3000tweet.csv\", encoding='utf-8') as csvfile:\n",
    "    reader = csv.reader(csvfile, delimiter=';')\n",
    "    for row in reader:\n",
    "        list_item=[]\n",
    "        list_item.append(row[0])\n",
    "        this_label=row[1]\n",
    "        if this_label=='1':\n",
    "            list_item.append(0)\n",
    "        else:\n",
    "            list_item.append(1)\n",
    "        num_sentences = num_sentences + 1\n",
    "        corpus.append(list_item)"
   ]
  },
  {
   "cell_type": "code",
   "execution_count": 165,
   "metadata": {},
   "outputs": [
    {
     "name": "stdout",
     "output_type": "stream",
     "text": [
      "3001\n",
      "3001\n",
      "['dun Turkcelle tepkilerimizden sonra bugün Turkcell twittera sponsor olmuş. Ne tesadüf değil mi ? :)', 0]\n"
     ]
    }
   ],
   "source": [
    "print(num_sentences)\n",
    "print(len(corpus))\n",
    "print(corpus[1])"
   ]
  },
  {
   "cell_type": "code",
   "execution_count": 166,
   "metadata": {},
   "outputs": [],
   "source": [
    "sentences=[]\n",
    "labels=[]\n",
    "\n",
    "random.shuffle(corpus)\n",
    "for x in range(training_size):\n",
    "    sentences.append(corpus[x][0])\n",
    "    labels.append(corpus[x][1])\n",
    "tokenizer = Tokenizer()\n",
    "tokenizer.fit_on_texts(sentences)\n",
    "word_index = tokenizer.word_index\n",
    "vocab_size=len(word_index)\n",
    "sequences = tokenizer.texts_to_sequences(sentences)\n",
    "padded = pad_sequences(sequences, maxlen=max_length, padding=padding_type, truncating=trunc_type)\n",
    "split = int(test_portion * training_size)\n",
    "test_sequences = padded[0:split]\n",
    "training_sequences = padded[split:training_size]\n",
    "test_labels = labels[0:split]\n",
    "training_labels = labels[split:training_size]"
   ]
  },
  {
   "cell_type": "code",
   "execution_count": 167,
   "metadata": {},
   "outputs": [
    {
     "name": "stdout",
     "output_type": "stream",
     "text": [
      "12415\n",
      "116\n"
     ]
    }
   ],
   "source": [
    "print(vocab_size)\n",
    "print(word_index['i'])"
   ]
  },
  {
   "cell_type": "code",
   "execution_count": 168,
   "metadata": {},
   "outputs": [],
   "source": [
    "embeddings_index = {};\n",
    "with open('glove.6B.100d.txt' , encoding='utf-8') as f:\n",
    "    for line in f:\n",
    "        values = line.split();\n",
    "        word = values[0];\n",
    "        coefs = np.asarray(values[1:], dtype='float32');\n",
    "        embeddings_index[word] = coefs;\n",
    "\n",
    "embeddings_matrix = np.zeros((vocab_size+1, embedding_dim));\n",
    "for word, i in word_index.items():\n",
    "    embedding_vector = embeddings_index.get(word);\n",
    "    if embedding_vector is not None:\n",
    "        embeddings_matrix[i] = embedding_vector;"
   ]
  },
  {
   "cell_type": "code",
   "execution_count": 169,
   "metadata": {},
   "outputs": [
    {
     "name": "stdout",
     "output_type": "stream",
     "text": [
      "Model: \"sequential_9\"\n",
      "_________________________________________________________________\n",
      "Layer (type)                 Output Shape              Param #   \n",
      "=================================================================\n",
      "embedding_9 (Embedding)      (None, 16, 100)           1241600   \n",
      "_________________________________________________________________\n",
      "dropout_9 (Dropout)          (None, 16, 100)           0         \n",
      "_________________________________________________________________\n",
      "conv1d_9 (Conv1D)            (None, 12, 64)            32064     \n",
      "_________________________________________________________________\n",
      "max_pooling1d_9 (MaxPooling1 (None, 3, 64)             0         \n",
      "_________________________________________________________________\n",
      "lstm_9 (LSTM)                (None, 64)                33024     \n",
      "_________________________________________________________________\n",
      "dense_9 (Dense)              (None, 1)                 65        \n",
      "=================================================================\n",
      "Total params: 1,306,753\n",
      "Trainable params: 65,153\n",
      "Non-trainable params: 1,241,600\n",
      "_________________________________________________________________\n"
     ]
    }
   ],
   "source": [
    "model = tf.keras.Sequential([\n",
    "    tf.keras.layers.Embedding(vocab_size+1, embedding_dim, input_length=max_length, weights=[embeddings_matrix], trainable=False),\n",
    "    tf.keras.layers.Dropout(0.2),\n",
    "    tf.keras.layers.Conv1D(64, 5, activation='relu'),\n",
    "    tf.keras.layers.MaxPooling1D(pool_size=4),\n",
    "    tf.keras.layers.LSTM(64),\n",
    "    tf.keras.layers.Dense(1, activation='sigmoid')\n",
    "])\n",
    "model.compile(loss='binary_crossentropy',optimizer='adam',metrics=['accuracy'])\n",
    "model.summary()"
   ]
  },
  {
   "cell_type": "code",
   "execution_count": 170,
   "metadata": {},
   "outputs": [
    {
     "name": "stdout",
     "output_type": "stream",
     "text": [
      "Train on 2700 samples, validate on 300 samples\n",
      "Epoch 1/50\n",
      "2700/2700 - 3s - loss: 0.5729 - accuracy: 0.7422 - val_loss: 0.5507 - val_accuracy: 0.7467\n",
      "Epoch 2/50\n",
      "2700/2700 - 0s - loss: 0.5452 - accuracy: 0.7515 - val_loss: 0.5343 - val_accuracy: 0.7600\n",
      "Epoch 3/50\n",
      "2700/2700 - 0s - loss: 0.5157 - accuracy: 0.7600 - val_loss: 0.5374 - val_accuracy: 0.7567\n",
      "Epoch 4/50\n",
      "2700/2700 - 0s - loss: 0.4794 - accuracy: 0.7763 - val_loss: 0.5354 - val_accuracy: 0.7733\n",
      "Epoch 5/50\n",
      "2700/2700 - 0s - loss: 0.4223 - accuracy: 0.8030 - val_loss: 0.6065 - val_accuracy: 0.7733\n",
      "Epoch 6/50\n",
      "2700/2700 - 0s - loss: 0.3806 - accuracy: 0.8289 - val_loss: 0.5868 - val_accuracy: 0.7400\n",
      "Epoch 7/50\n",
      "2700/2700 - 0s - loss: 0.3324 - accuracy: 0.8556 - val_loss: 0.6859 - val_accuracy: 0.7500\n",
      "Epoch 8/50\n",
      "2700/2700 - 0s - loss: 0.2808 - accuracy: 0.8811 - val_loss: 0.7442 - val_accuracy: 0.7300\n",
      "Epoch 9/50\n",
      "2700/2700 - 0s - loss: 0.2433 - accuracy: 0.8944 - val_loss: 0.8044 - val_accuracy: 0.6700\n",
      "Epoch 10/50\n",
      "2700/2700 - 0s - loss: 0.2318 - accuracy: 0.9019 - val_loss: 0.8046 - val_accuracy: 0.7233\n",
      "Epoch 11/50\n",
      "2700/2700 - 0s - loss: 0.2183 - accuracy: 0.9093 - val_loss: 0.8752 - val_accuracy: 0.6967\n",
      "Epoch 12/50\n",
      "2700/2700 - 0s - loss: 0.1763 - accuracy: 0.9274 - val_loss: 0.9247 - val_accuracy: 0.7267\n",
      "Epoch 13/50\n",
      "2700/2700 - 0s - loss: 0.1667 - accuracy: 0.9344 - val_loss: 0.9613 - val_accuracy: 0.7000\n",
      "Epoch 14/50\n",
      "2700/2700 - 0s - loss: 0.1531 - accuracy: 0.9352 - val_loss: 1.0039 - val_accuracy: 0.7367\n",
      "Epoch 15/50\n",
      "2700/2700 - 0s - loss: 0.1636 - accuracy: 0.9307 - val_loss: 0.9589 - val_accuracy: 0.6833\n",
      "Epoch 16/50\n",
      "2700/2700 - 0s - loss: 0.1435 - accuracy: 0.9370 - val_loss: 1.0324 - val_accuracy: 0.7300\n",
      "Epoch 17/50\n",
      "2700/2700 - 0s - loss: 0.1447 - accuracy: 0.9393 - val_loss: 0.9979 - val_accuracy: 0.7333\n",
      "Epoch 18/50\n",
      "2700/2700 - 0s - loss: 0.1334 - accuracy: 0.9437 - val_loss: 1.0232 - val_accuracy: 0.6633\n",
      "Epoch 19/50\n",
      "2700/2700 - 0s - loss: 0.1194 - accuracy: 0.9519 - val_loss: 1.1163 - val_accuracy: 0.7300\n",
      "Epoch 20/50\n",
      "2700/2700 - 0s - loss: 0.1245 - accuracy: 0.9459 - val_loss: 1.1595 - val_accuracy: 0.6533\n",
      "Epoch 21/50\n",
      "2700/2700 - 0s - loss: 0.1193 - accuracy: 0.9519 - val_loss: 1.1334 - val_accuracy: 0.7400\n",
      "Epoch 22/50\n",
      "2700/2700 - 0s - loss: 0.1015 - accuracy: 0.9581 - val_loss: 1.0579 - val_accuracy: 0.7533\n",
      "Epoch 23/50\n",
      "2700/2700 - 0s - loss: 0.1076 - accuracy: 0.9563 - val_loss: 1.1132 - val_accuracy: 0.7400\n",
      "Epoch 24/50\n",
      "2700/2700 - 0s - loss: 0.1042 - accuracy: 0.9537 - val_loss: 1.1661 - val_accuracy: 0.7433\n",
      "Epoch 25/50\n",
      "2700/2700 - 0s - loss: 0.1140 - accuracy: 0.9507 - val_loss: 1.2455 - val_accuracy: 0.7067\n",
      "Epoch 26/50\n",
      "2700/2700 - 0s - loss: 0.1148 - accuracy: 0.9537 - val_loss: 1.2363 - val_accuracy: 0.7033\n",
      "Epoch 27/50\n",
      "2700/2700 - 0s - loss: 0.1099 - accuracy: 0.9544 - val_loss: 1.1486 - val_accuracy: 0.7133\n",
      "Epoch 28/50\n",
      "2700/2700 - 0s - loss: 0.1060 - accuracy: 0.9556 - val_loss: 1.2782 - val_accuracy: 0.7500\n",
      "Epoch 29/50\n",
      "2700/2700 - 0s - loss: 0.0943 - accuracy: 0.9600 - val_loss: 1.2805 - val_accuracy: 0.6733\n",
      "Epoch 30/50\n",
      "2700/2700 - 0s - loss: 0.0911 - accuracy: 0.9626 - val_loss: 1.2785 - val_accuracy: 0.7233\n",
      "Epoch 31/50\n",
      "2700/2700 - 0s - loss: 0.0880 - accuracy: 0.9656 - val_loss: 1.3539 - val_accuracy: 0.7300\n",
      "Epoch 32/50\n",
      "2700/2700 - 0s - loss: 0.0918 - accuracy: 0.9607 - val_loss: 1.2509 - val_accuracy: 0.6900\n",
      "Epoch 33/50\n",
      "2700/2700 - 0s - loss: 0.0903 - accuracy: 0.9615 - val_loss: 1.3280 - val_accuracy: 0.7100\n",
      "Epoch 34/50\n",
      "2700/2700 - 0s - loss: 0.1011 - accuracy: 0.9570 - val_loss: 1.3096 - val_accuracy: 0.7400\n",
      "Epoch 35/50\n",
      "2700/2700 - 0s - loss: 0.0845 - accuracy: 0.9652 - val_loss: 1.4591 - val_accuracy: 0.6867\n",
      "Epoch 36/50\n",
      "2700/2700 - 0s - loss: 0.0919 - accuracy: 0.9633 - val_loss: 1.4710 - val_accuracy: 0.6867\n",
      "Epoch 37/50\n",
      "2700/2700 - 0s - loss: 0.0863 - accuracy: 0.9652 - val_loss: 1.3417 - val_accuracy: 0.7000\n",
      "Epoch 38/50\n",
      "2700/2700 - 0s - loss: 0.0863 - accuracy: 0.9637 - val_loss: 1.4153 - val_accuracy: 0.7000\n",
      "Epoch 39/50\n",
      "2700/2700 - 0s - loss: 0.0848 - accuracy: 0.9637 - val_loss: 1.5012 - val_accuracy: 0.7133\n",
      "Epoch 40/50\n",
      "2700/2700 - 0s - loss: 0.0820 - accuracy: 0.9667 - val_loss: 1.4723 - val_accuracy: 0.6900\n",
      "Epoch 41/50\n",
      "2700/2700 - 0s - loss: 0.1046 - accuracy: 0.9533 - val_loss: 1.3194 - val_accuracy: 0.7100\n",
      "Epoch 42/50\n",
      "2700/2700 - 0s - loss: 0.0792 - accuracy: 0.9659 - val_loss: 1.3934 - val_accuracy: 0.7333\n",
      "Epoch 43/50\n",
      "2700/2700 - 0s - loss: 0.0968 - accuracy: 0.9611 - val_loss: 1.3473 - val_accuracy: 0.7467\n",
      "Epoch 44/50\n",
      "2700/2700 - 0s - loss: 0.0914 - accuracy: 0.9596 - val_loss: 1.3647 - val_accuracy: 0.7167\n",
      "Epoch 45/50\n",
      "2700/2700 - 0s - loss: 0.0771 - accuracy: 0.9674 - val_loss: 1.4189 - val_accuracy: 0.7367\n",
      "Epoch 46/50\n",
      "2700/2700 - 0s - loss: 0.0867 - accuracy: 0.9622 - val_loss: 1.3235 - val_accuracy: 0.6933\n",
      "Epoch 47/50\n",
      "2700/2700 - 0s - loss: 0.0925 - accuracy: 0.9604 - val_loss: 1.3112 - val_accuracy: 0.7033\n",
      "Epoch 48/50\n",
      "2700/2700 - 0s - loss: 0.0797 - accuracy: 0.9674 - val_loss: 1.3682 - val_accuracy: 0.7300\n",
      "Epoch 49/50\n",
      "2700/2700 - 0s - loss: 0.0780 - accuracy: 0.9663 - val_loss: 1.5190 - val_accuracy: 0.6700\n",
      "Epoch 50/50\n",
      "2700/2700 - 0s - loss: 0.0922 - accuracy: 0.9630 - val_loss: 1.3207 - val_accuracy: 0.7467\n",
      "Training Complete\n"
     ]
    }
   ],
   "source": [
    "num_epochs = 50\n",
    "history=model.fit(np.array(training_sequences), np.array(training_labels), epochs=num_epochs, validation_data=(np.array(test_sequences), np.array(test_labels)), verbose=2)\n",
    "\n",
    "print(\"Training Complete\")"
   ]
  },
  {
   "cell_type": "code",
   "execution_count": null,
   "metadata": {},
   "outputs": [],
   "source": []
  }
 ],
 "metadata": {
  "kernelspec": {
   "display_name": "Python 3",
   "language": "python",
   "name": "python3"
  },
  "language_info": {
   "codemirror_mode": {
    "name": "ipython",
    "version": 3
   },
   "file_extension": ".py",
   "mimetype": "text/x-python",
   "name": "python",
   "nbconvert_exporter": "python",
   "pygments_lexer": "ipython3",
   "version": "3.7.7"
  }
 },
 "nbformat": 4,
 "nbformat_minor": 4
}
